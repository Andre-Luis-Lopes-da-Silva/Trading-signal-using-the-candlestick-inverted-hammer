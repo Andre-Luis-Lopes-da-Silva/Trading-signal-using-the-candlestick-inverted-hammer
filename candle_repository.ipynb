{
 "cells": [
  {
   "cell_type": "markdown",
   "metadata": {},
   "source": [
    "# Trading signal using the candlestick inverted hammer"
   ]
  },
  {
   "cell_type": "code",
   "execution_count": 20,
   "metadata": {},
   "outputs": [],
   "source": [
    "import pandas as pd"
   ]
  },
  {
   "cell_type": "code",
   "execution_count": 21,
   "metadata": {},
   "outputs": [],
   "source": [
    "df = pd.read_csv('/home/andre/Desktop/projeto Renner/LREN3_10y_d.csv')"
   ]
  },
  {
   "cell_type": "code",
   "execution_count": 22,
   "metadata": {},
   "outputs": [],
   "source": [
    "#!pip install candlestick-patterns-subodh101"
   ]
  },
  {
   "cell_type": "code",
   "execution_count": 23,
   "metadata": {},
   "outputs": [],
   "source": [
    "# !pip install candlestick-patterns-subodh101\n",
    "# to install candlestick\n",
    "from candlestick import candlestick\n",
    "\n",
    "stock = candlestick.inverted_hammer(df, target='result') # Find the inverted hammer in asset data."
   ]
  },
  {
   "cell_type": "code",
   "execution_count": 24,
   "metadata": {},
   "outputs": [
    {
     "data": {
      "text/html": [
       "<div>\n",
       "<style scoped>\n",
       "    .dataframe tbody tr th:only-of-type {\n",
       "        vertical-align: middle;\n",
       "    }\n",
       "\n",
       "    .dataframe tbody tr th {\n",
       "        vertical-align: top;\n",
       "    }\n",
       "\n",
       "    .dataframe thead th {\n",
       "        text-align: right;\n",
       "    }\n",
       "</style>\n",
       "<table border=\"1\" class=\"dataframe\">\n",
       "  <thead>\n",
       "    <tr style=\"text-align: right;\">\n",
       "      <th></th>\n",
       "      <th>Unnamed: 0</th>\n",
       "      <th>open</th>\n",
       "      <th>high</th>\n",
       "      <th>low</th>\n",
       "      <th>close</th>\n",
       "      <th>adjclose</th>\n",
       "      <th>volume</th>\n",
       "      <th>ticker</th>\n",
       "      <th>result</th>\n",
       "    </tr>\n",
       "  </thead>\n",
       "  <tbody>\n",
       "    <tr>\n",
       "      <th>0</th>\n",
       "      <td>2011-01-01</td>\n",
       "      <td>9.264964</td>\n",
       "      <td>9.492898</td>\n",
       "      <td>7.756332</td>\n",
       "      <td>7.936712</td>\n",
       "      <td>6.187789</td>\n",
       "      <td>149128856</td>\n",
       "      <td>LREN3.SA</td>\n",
       "      <td>False</td>\n",
       "    </tr>\n",
       "    <tr>\n",
       "      <th>1</th>\n",
       "      <td>2011-02-01</td>\n",
       "      <td>8.033461</td>\n",
       "      <td>8.736943</td>\n",
       "      <td>7.756332</td>\n",
       "      <td>8.363064</td>\n",
       "      <td>6.520191</td>\n",
       "      <td>120569757</td>\n",
       "      <td>LREN3.SA</td>\n",
       "      <td>False</td>\n",
       "    </tr>\n",
       "    <tr>\n",
       "      <th>2</th>\n",
       "      <td>2011-03-01</td>\n",
       "      <td>8.364704</td>\n",
       "      <td>9.059987</td>\n",
       "      <td>8.140049</td>\n",
       "      <td>8.672990</td>\n",
       "      <td>6.761822</td>\n",
       "      <td>106565665</td>\n",
       "      <td>LREN3.SA</td>\n",
       "      <td>False</td>\n",
       "    </tr>\n",
       "    <tr>\n",
       "      <th>3</th>\n",
       "      <td>2011-04-01</td>\n",
       "      <td>8.672990</td>\n",
       "      <td>9.660159</td>\n",
       "      <td>8.625435</td>\n",
       "      <td>9.519135</td>\n",
       "      <td>7.440603</td>\n",
       "      <td>87893355</td>\n",
       "      <td>LREN3.SA</td>\n",
       "      <td>False</td>\n",
       "    </tr>\n",
       "    <tr>\n",
       "      <th>4</th>\n",
       "      <td>2011-05-01</td>\n",
       "      <td>9.512576</td>\n",
       "      <td>9.819222</td>\n",
       "      <td>8.896005</td>\n",
       "      <td>9.814302</td>\n",
       "      <td>7.843419</td>\n",
       "      <td>108838470</td>\n",
       "      <td>LREN3.SA</td>\n",
       "      <td>False</td>\n",
       "    </tr>\n",
       "    <tr>\n",
       "      <th>5</th>\n",
       "      <td>2011-06-01</td>\n",
       "      <td>9.715913</td>\n",
       "      <td>10.243934</td>\n",
       "      <td>9.100982</td>\n",
       "      <td>9.756909</td>\n",
       "      <td>7.797547</td>\n",
       "      <td>109873248</td>\n",
       "      <td>LREN3.SA</td>\n",
       "      <td>False</td>\n",
       "    </tr>\n",
       "    <tr>\n",
       "      <th>6</th>\n",
       "      <td>2011-07-01</td>\n",
       "      <td>9.776586</td>\n",
       "      <td>10.114389</td>\n",
       "      <td>8.650032</td>\n",
       "      <td>8.989474</td>\n",
       "      <td>7.201477</td>\n",
       "      <td>99709191</td>\n",
       "      <td>LREN3.SA</td>\n",
       "      <td>False</td>\n",
       "    </tr>\n",
       "    <tr>\n",
       "      <th>7</th>\n",
       "      <td>2011-08-01</td>\n",
       "      <td>9.202651</td>\n",
       "      <td>9.888094</td>\n",
       "      <td>7.192235</td>\n",
       "      <td>9.814302</td>\n",
       "      <td>7.862252</td>\n",
       "      <td>189240653</td>\n",
       "      <td>LREN3.SA</td>\n",
       "      <td>False</td>\n",
       "    </tr>\n",
       "    <tr>\n",
       "      <th>8</th>\n",
       "      <td>2011-09-01</td>\n",
       "      <td>10.150465</td>\n",
       "      <td>10.822789</td>\n",
       "      <td>7.808806</td>\n",
       "      <td>8.305671</td>\n",
       "      <td>6.653684</td>\n",
       "      <td>171428298</td>\n",
       "      <td>LREN3.SA</td>\n",
       "      <td>False</td>\n",
       "    </tr>\n",
       "    <tr>\n",
       "      <th>9</th>\n",
       "      <td>2011-10-01</td>\n",
       "      <td>8.199083</td>\n",
       "      <td>9.369912</td>\n",
       "      <td>7.838323</td>\n",
       "      <td>8.536885</td>\n",
       "      <td>6.857863</td>\n",
       "      <td>126794044</td>\n",
       "      <td>LREN3.SA</td>\n",
       "      <td>False</td>\n",
       "    </tr>\n",
       "    <tr>\n",
       "      <th>10</th>\n",
       "      <td>2011-11-01</td>\n",
       "      <td>8.199083</td>\n",
       "      <td>8.961598</td>\n",
       "      <td>7.985907</td>\n",
       "      <td>8.887806</td>\n",
       "      <td>7.139767</td>\n",
       "      <td>108943876</td>\n",
       "      <td>LREN3.SA</td>\n",
       "      <td>False</td>\n",
       "    </tr>\n",
       "    <tr>\n",
       "      <th>11</th>\n",
       "      <td>2011-12-01</td>\n",
       "      <td>8.923882</td>\n",
       "      <td>9.074745</td>\n",
       "      <td>7.280785</td>\n",
       "      <td>7.938352</td>\n",
       "      <td>6.377050</td>\n",
       "      <td>100103863</td>\n",
       "      <td>LREN3.SA</td>\n",
       "      <td>False</td>\n",
       "    </tr>\n",
       "    <tr>\n",
       "      <th>12</th>\n",
       "      <td>2012-01-01</td>\n",
       "      <td>7.938352</td>\n",
       "      <td>9.966805</td>\n",
       "      <td>7.938352</td>\n",
       "      <td>9.674918</td>\n",
       "      <td>7.794593</td>\n",
       "      <td>112661365</td>\n",
       "      <td>LREN3.SA</td>\n",
       "      <td>False</td>\n",
       "    </tr>\n",
       "    <tr>\n",
       "      <th>13</th>\n",
       "      <td>2012-02-01</td>\n",
       "      <td>9.756909</td>\n",
       "      <td>10.812951</td>\n",
       "      <td>9.510936</td>\n",
       "      <td>10.721121</td>\n",
       "      <td>8.637468</td>\n",
       "      <td>98330495</td>\n",
       "      <td>LREN3.SA</td>\n",
       "      <td>False</td>\n",
       "    </tr>\n",
       "    <tr>\n",
       "      <th>14</th>\n",
       "      <td>2012-03-01</td>\n",
       "      <td>10.737519</td>\n",
       "      <td>11.055643</td>\n",
       "      <td>10.042237</td>\n",
       "      <td>10.281650</td>\n",
       "      <td>8.283403</td>\n",
       "      <td>111417936</td>\n",
       "      <td>LREN3.SA</td>\n",
       "      <td>False</td>\n",
       "    </tr>\n",
       "    <tr>\n",
       "      <th>15</th>\n",
       "      <td>2012-04-01</td>\n",
       "      <td>10.365281</td>\n",
       "      <td>10.575177</td>\n",
       "      <td>9.373192</td>\n",
       "      <td>10.047156</td>\n",
       "      <td>8.112964</td>\n",
       "      <td>136180457</td>\n",
       "      <td>LREN3.SA</td>\n",
       "      <td>False</td>\n",
       "    </tr>\n",
       "    <tr>\n",
       "      <th>16</th>\n",
       "      <td>2012-05-01</td>\n",
       "      <td>10.047156</td>\n",
       "      <td>10.565338</td>\n",
       "      <td>9.068186</td>\n",
       "      <td>9.535533</td>\n",
       "      <td>7.869822</td>\n",
       "      <td>125685383</td>\n",
       "      <td>LREN3.SA</td>\n",
       "      <td>False</td>\n",
       "    </tr>\n",
       "    <tr>\n",
       "      <th>17</th>\n",
       "      <td>2012-06-01</td>\n",
       "      <td>9.481419</td>\n",
       "      <td>9.976644</td>\n",
       "      <td>8.759900</td>\n",
       "      <td>9.240366</td>\n",
       "      <td>7.626218</td>\n",
       "      <td>94921577</td>\n",
       "      <td>LREN3.SA</td>\n",
       "      <td>False</td>\n",
       "    </tr>\n",
       "    <tr>\n",
       "      <th>18</th>\n",
       "      <td>2012-07-01</td>\n",
       "      <td>9.192812</td>\n",
       "      <td>10.222617</td>\n",
       "      <td>8.609037</td>\n",
       "      <td>10.047156</td>\n",
       "      <td>8.313083</td>\n",
       "      <td>106255773</td>\n",
       "      <td>LREN3.SA</td>\n",
       "      <td>False</td>\n",
       "    </tr>\n",
       "    <tr>\n",
       "      <th>19</th>\n",
       "      <td>2012-08-01</td>\n",
       "      <td>10.052076</td>\n",
       "      <td>11.255701</td>\n",
       "      <td>9.633922</td>\n",
       "      <td>10.973653</td>\n",
       "      <td>9.079674</td>\n",
       "      <td>126323869</td>\n",
       "      <td>LREN3.SA</td>\n",
       "      <td>False</td>\n",
       "    </tr>\n",
       "    <tr>\n",
       "      <th>20</th>\n",
       "      <td>2012-09-01</td>\n",
       "      <td>11.029406</td>\n",
       "      <td>12.237951</td>\n",
       "      <td>10.742438</td>\n",
       "      <td>11.134355</td>\n",
       "      <td>9.212640</td>\n",
       "      <td>109664079</td>\n",
       "      <td>LREN3.SA</td>\n",
       "      <td>True</td>\n",
       "    </tr>\n",
       "    <tr>\n",
       "      <th>21</th>\n",
       "      <td>2012-10-01</td>\n",
       "      <td>11.065482</td>\n",
       "      <td>12.815167</td>\n",
       "      <td>11.063843</td>\n",
       "      <td>12.331421</td>\n",
       "      <td>10.224215</td>\n",
       "      <td>141194432</td>\n",
       "      <td>LREN3.SA</td>\n",
       "      <td>False</td>\n",
       "    </tr>\n",
       "    <tr>\n",
       "      <th>22</th>\n",
       "      <td>2012-11-01</td>\n",
       "      <td>12.316662</td>\n",
       "      <td>13.061139</td>\n",
       "      <td>12.077249</td>\n",
       "      <td>12.815167</td>\n",
       "      <td>10.625299</td>\n",
       "      <td>75518190</td>\n",
       "      <td>LREN3.SA</td>\n",
       "      <td>False</td>\n",
       "    </tr>\n",
       "    <tr>\n",
       "      <th>23</th>\n",
       "      <td>2012-12-01</td>\n",
       "      <td>12.926674</td>\n",
       "      <td>13.334989</td>\n",
       "      <td>12.647905</td>\n",
       "      <td>13.077537</td>\n",
       "      <td>10.842834</td>\n",
       "      <td>68929038</td>\n",
       "      <td>LREN3.SA</td>\n",
       "      <td>False</td>\n",
       "    </tr>\n",
       "    <tr>\n",
       "      <th>24</th>\n",
       "      <td>2013-01-01</td>\n",
       "      <td>13.077537</td>\n",
       "      <td>13.323510</td>\n",
       "      <td>12.560995</td>\n",
       "      <td>13.070978</td>\n",
       "      <td>10.857711</td>\n",
       "      <td>80185784</td>\n",
       "      <td>LREN3.SA</td>\n",
       "      <td>False</td>\n",
       "    </tr>\n",
       "    <tr>\n",
       "      <th>25</th>\n",
       "      <td>2013-02-01</td>\n",
       "      <td>13.133291</td>\n",
       "      <td>13.146410</td>\n",
       "      <td>11.937865</td>\n",
       "      <td>12.357658</td>\n",
       "      <td>10.265176</td>\n",
       "      <td>90756478</td>\n",
       "      <td>LREN3.SA</td>\n",
       "      <td>False</td>\n",
       "    </tr>\n",
       "    <tr>\n",
       "      <th>26</th>\n",
       "      <td>2013-03-01</td>\n",
       "      <td>12.242871</td>\n",
       "      <td>12.544597</td>\n",
       "      <td>11.557427</td>\n",
       "      <td>12.436369</td>\n",
       "      <td>10.330560</td>\n",
       "      <td>106390541</td>\n",
       "      <td>LREN3.SA</td>\n",
       "      <td>False</td>\n",
       "    </tr>\n",
       "    <tr>\n",
       "      <th>27</th>\n",
       "      <td>2013-04-01</td>\n",
       "      <td>12.218273</td>\n",
       "      <td>12.575753</td>\n",
       "      <td>11.531190</td>\n",
       "      <td>12.560995</td>\n",
       "      <td>10.448776</td>\n",
       "      <td>134458924</td>\n",
       "      <td>LREN3.SA</td>\n",
       "      <td>False</td>\n",
       "    </tr>\n",
       "    <tr>\n",
       "      <th>28</th>\n",
       "      <td>2013-05-01</td>\n",
       "      <td>12.560995</td>\n",
       "      <td>13.438297</td>\n",
       "      <td>12.085448</td>\n",
       "      <td>12.216634</td>\n",
       "      <td>10.358820</td>\n",
       "      <td>98636625</td>\n",
       "      <td>LREN3.SA</td>\n",
       "      <td>True</td>\n",
       "    </tr>\n",
       "    <tr>\n",
       "      <th>29</th>\n",
       "      <td>2013-06-01</td>\n",
       "      <td>12.239591</td>\n",
       "      <td>12.397013</td>\n",
       "      <td>10.343963</td>\n",
       "      <td>10.478428</td>\n",
       "      <td>8.884948</td>\n",
       "      <td>140689499</td>\n",
       "      <td>LREN3.SA</td>\n",
       "      <td>False</td>\n",
       "    </tr>\n",
       "    <tr>\n",
       "      <th>30</th>\n",
       "      <td>2013-07-01</td>\n",
       "      <td>10.658808</td>\n",
       "      <td>10.722761</td>\n",
       "      <td>9.760188</td>\n",
       "      <td>9.904492</td>\n",
       "      <td>8.411552</td>\n",
       "      <td>109380510</td>\n",
       "      <td>LREN3.SA</td>\n",
       "      <td>False</td>\n",
       "    </tr>\n",
       "    <tr>\n",
       "      <th>31</th>\n",
       "      <td>2013-08-01</td>\n",
       "      <td>9.953687</td>\n",
       "      <td>10.881823</td>\n",
       "      <td>9.150176</td>\n",
       "      <td>9.410907</td>\n",
       "      <td>7.992366</td>\n",
       "      <td>131469561</td>\n",
       "      <td>LREN3.SA</td>\n",
       "      <td>False</td>\n",
       "    </tr>\n",
       "    <tr>\n",
       "      <th>32</th>\n",
       "      <td>2013-09-01</td>\n",
       "      <td>9.486339</td>\n",
       "      <td>11.701731</td>\n",
       "      <td>9.486339</td>\n",
       "      <td>10.417755</td>\n",
       "      <td>8.847446</td>\n",
       "      <td>132054994</td>\n",
       "      <td>LREN3.SA</td>\n",
       "      <td>False</td>\n",
       "    </tr>\n",
       "    <tr>\n",
       "      <th>33</th>\n",
       "      <td>2013-10-01</td>\n",
       "      <td>10.493186</td>\n",
       "      <td>11.527911</td>\n",
       "      <td>10.219337</td>\n",
       "      <td>11.068762</td>\n",
       "      <td>9.414693</td>\n",
       "      <td>106260038</td>\n",
       "      <td>LREN3.SA</td>\n",
       "      <td>False</td>\n",
       "    </tr>\n",
       "    <tr>\n",
       "      <th>34</th>\n",
       "      <td>2013-11-01</td>\n",
       "      <td>11.113037</td>\n",
       "      <td>11.226184</td>\n",
       "      <td>9.927450</td>\n",
       "      <td>10.248854</td>\n",
       "      <td>8.717310</td>\n",
       "      <td>84925338</td>\n",
       "      <td>LREN3.SA</td>\n",
       "      <td>False</td>\n",
       "    </tr>\n",
       "    <tr>\n",
       "      <th>35</th>\n",
       "      <td>2013-12-01</td>\n",
       "      <td>10.104550</td>\n",
       "      <td>10.488267</td>\n",
       "      <td>9.714273</td>\n",
       "      <td>10.002881</td>\n",
       "      <td>8.508094</td>\n",
       "      <td>85706522</td>\n",
       "      <td>LREN3.SA</td>\n",
       "      <td>False</td>\n",
       "    </tr>\n",
       "    <tr>\n",
       "      <th>36</th>\n",
       "      <td>2014-01-01</td>\n",
       "      <td>10.002881</td>\n",
       "      <td>10.132427</td>\n",
       "      <td>8.940280</td>\n",
       "      <td>9.089503</td>\n",
       "      <td>7.745146</td>\n",
       "      <td>141974397</td>\n",
       "      <td>LREN3.SA</td>\n",
       "      <td>False</td>\n",
       "    </tr>\n",
       "    <tr>\n",
       "      <th>37</th>\n",
       "      <td>2014-02-01</td>\n",
       "      <td>9.089503</td>\n",
       "      <td>9.743790</td>\n",
       "      <td>8.668070</td>\n",
       "      <td>9.461742</td>\n",
       "      <td>8.062334</td>\n",
       "      <td>121319039</td>\n",
       "      <td>LREN3.SA</td>\n",
       "      <td>False</td>\n",
       "    </tr>\n",
       "    <tr>\n",
       "      <th>38</th>\n",
       "      <td>2014-03-01</td>\n",
       "      <td>9.461742</td>\n",
       "      <td>10.626011</td>\n",
       "      <td>9.322357</td>\n",
       "      <td>10.530902</td>\n",
       "      <td>8.973358</td>\n",
       "      <td>76372554</td>\n",
       "      <td>LREN3.SA</td>\n",
       "      <td>False</td>\n",
       "    </tr>\n",
       "    <tr>\n",
       "      <th>39</th>\n",
       "      <td>2014-04-01</td>\n",
       "      <td>10.503025</td>\n",
       "      <td>10.950695</td>\n",
       "      <td>10.086512</td>\n",
       "      <td>10.757197</td>\n",
       "      <td>9.185578</td>\n",
       "      <td>87199983</td>\n",
       "      <td>LREN3.SA</td>\n",
       "      <td>False</td>\n",
       "    </tr>\n",
       "    <tr>\n",
       "      <th>40</th>\n",
       "      <td>2014-05-01</td>\n",
       "      <td>10.757197</td>\n",
       "      <td>11.445920</td>\n",
       "      <td>10.701443</td>\n",
       "      <td>11.158952</td>\n",
       "      <td>9.643590</td>\n",
       "      <td>87229255</td>\n",
       "      <td>LREN3.SA</td>\n",
       "      <td>False</td>\n",
       "    </tr>\n",
       "    <tr>\n",
       "      <th>41</th>\n",
       "      <td>2014-06-01</td>\n",
       "      <td>11.088440</td>\n",
       "      <td>12.082169</td>\n",
       "      <td>10.871984</td>\n",
       "      <td>11.609901</td>\n",
       "      <td>10.033301</td>\n",
       "      <td>84204526</td>\n",
       "      <td>LREN3.SA</td>\n",
       "      <td>False</td>\n",
       "    </tr>\n",
       "    <tr>\n",
       "      <th>42</th>\n",
       "      <td>2014-07-01</td>\n",
       "      <td>11.678774</td>\n",
       "      <td>12.177278</td>\n",
       "      <td>11.172070</td>\n",
       "      <td>11.232744</td>\n",
       "      <td>9.724645</td>\n",
       "      <td>83460538</td>\n",
       "      <td>LREN3.SA</td>\n",
       "      <td>False</td>\n",
       "    </tr>\n",
       "    <tr>\n",
       "      <th>43</th>\n",
       "      <td>2014-08-01</td>\n",
       "      <td>11.232744</td>\n",
       "      <td>12.626588</td>\n",
       "      <td>11.093359</td>\n",
       "      <td>12.593791</td>\n",
       "      <td>10.902959</td>\n",
       "      <td>81106618</td>\n",
       "      <td>LREN3.SA</td>\n",
       "      <td>False</td>\n",
       "    </tr>\n",
       "    <tr>\n",
       "      <th>44</th>\n",
       "      <td>2014-09-01</td>\n",
       "      <td>12.667583</td>\n",
       "      <td>12.667583</td>\n",
       "      <td>10.927738</td>\n",
       "      <td>11.655816</td>\n",
       "      <td>10.090915</td>\n",
       "      <td>102443147</td>\n",
       "      <td>LREN3.SA</td>\n",
       "      <td>False</td>\n",
       "    </tr>\n",
       "    <tr>\n",
       "      <th>45</th>\n",
       "      <td>2014-10-01</td>\n",
       "      <td>11.452479</td>\n",
       "      <td>12.442928</td>\n",
       "      <td>10.722761</td>\n",
       "      <td>12.167439</td>\n",
       "      <td>10.553313</td>\n",
       "      <td>104692180</td>\n",
       "      <td>LREN3.SA</td>\n",
       "      <td>False</td>\n",
       "    </tr>\n",
       "    <tr>\n",
       "      <th>46</th>\n",
       "      <td>2014-11-01</td>\n",
       "      <td>12.082169</td>\n",
       "      <td>12.703659</td>\n",
       "      <td>11.537750</td>\n",
       "      <td>12.536398</td>\n",
       "      <td>10.873325</td>\n",
       "      <td>60209161</td>\n",
       "      <td>LREN3.SA</td>\n",
       "      <td>False</td>\n",
       "    </tr>\n",
       "    <tr>\n",
       "      <th>47</th>\n",
       "      <td>2014-12-01</td>\n",
       "      <td>12.134643</td>\n",
       "      <td>12.626588</td>\n",
       "      <td>11.470517</td>\n",
       "      <td>12.539678</td>\n",
       "      <td>10.876170</td>\n",
       "      <td>17663061</td>\n",
       "      <td>LREN3.SA</td>\n",
       "      <td>False</td>\n",
       "    </tr>\n",
       "    <tr>\n",
       "      <th>48</th>\n",
       "      <td>2015-01-01</td>\n",
       "      <td>12.539678</td>\n",
       "      <td>12.560995</td>\n",
       "      <td>11.463958</td>\n",
       "      <td>11.560707</td>\n",
       "      <td>10.044942</td>\n",
       "      <td>107391872</td>\n",
       "      <td>LREN3.SA</td>\n",
       "      <td>False</td>\n",
       "    </tr>\n",
       "    <tr>\n",
       "      <th>49</th>\n",
       "      <td>2015-02-01</td>\n",
       "      <td>11.645977</td>\n",
       "      <td>13.897446</td>\n",
       "      <td>11.473797</td>\n",
       "      <td>13.789218</td>\n",
       "      <td>11.981265</td>\n",
       "      <td>116161146</td>\n",
       "      <td>LREN3.SA</td>\n",
       "      <td>False</td>\n",
       "    </tr>\n",
       "    <tr>\n",
       "      <th>50</th>\n",
       "      <td>2015-03-01</td>\n",
       "      <td>13.743303</td>\n",
       "      <td>14.945289</td>\n",
       "      <td>13.190685</td>\n",
       "      <td>14.886255</td>\n",
       "      <td>12.934469</td>\n",
       "      <td>118025379</td>\n",
       "      <td>LREN3.SA</td>\n",
       "      <td>False</td>\n",
       "    </tr>\n",
       "    <tr>\n",
       "      <th>51</th>\n",
       "      <td>2015-04-01</td>\n",
       "      <td>14.989564</td>\n",
       "      <td>17.275469</td>\n",
       "      <td>14.799345</td>\n",
       "      <td>17.226274</td>\n",
       "      <td>14.997431</td>\n",
       "      <td>86862746</td>\n",
       "      <td>LREN3.SA</td>\n",
       "      <td>False</td>\n",
       "    </tr>\n",
       "    <tr>\n",
       "      <th>52</th>\n",
       "      <td>2015-05-01</td>\n",
       "      <td>17.226274</td>\n",
       "      <td>19.102224</td>\n",
       "      <td>16.890112</td>\n",
       "      <td>17.554237</td>\n",
       "      <td>15.420111</td>\n",
       "      <td>85921792</td>\n",
       "      <td>LREN3.SA</td>\n",
       "      <td>True</td>\n",
       "    </tr>\n",
       "    <tr>\n",
       "      <th>53</th>\n",
       "      <td>2015-06-01</td>\n",
       "      <td>17.554237</td>\n",
       "      <td>19.056309</td>\n",
       "      <td>17.201675</td>\n",
       "      <td>18.529928</td>\n",
       "      <td>16.277178</td>\n",
       "      <td>98157307</td>\n",
       "      <td>LREN3.SA</td>\n",
       "      <td>False</td>\n",
       "    </tr>\n",
       "    <tr>\n",
       "      <th>54</th>\n",
       "      <td>2015-07-01</td>\n",
       "      <td>18.661114</td>\n",
       "      <td>19.413790</td>\n",
       "      <td>16.972101</td>\n",
       "      <td>17.855963</td>\n",
       "      <td>15.711619</td>\n",
       "      <td>86795057</td>\n",
       "      <td>LREN3.SA</td>\n",
       "      <td>False</td>\n",
       "    </tr>\n",
       "    <tr>\n",
       "      <th>55</th>\n",
       "      <td>2015-08-01</td>\n",
       "      <td>17.687061</td>\n",
       "      <td>17.783812</td>\n",
       "      <td>15.135507</td>\n",
       "      <td>16.155474</td>\n",
       "      <td>14.215338</td>\n",
       "      <td>130799367</td>\n",
       "      <td>LREN3.SA</td>\n",
       "      <td>False</td>\n",
       "    </tr>\n",
       "    <tr>\n",
       "      <th>56</th>\n",
       "      <td>2015-09-01</td>\n",
       "      <td>15.699604</td>\n",
       "      <td>17.044254</td>\n",
       "      <td>14.725553</td>\n",
       "      <td>15.086313</td>\n",
       "      <td>13.274573</td>\n",
       "      <td>107481763</td>\n",
       "      <td>LREN3.SA</td>\n",
       "      <td>False</td>\n",
       "    </tr>\n",
       "    <tr>\n",
       "      <th>57</th>\n",
       "      <td>2015-10-01</td>\n",
       "      <td>15.151905</td>\n",
       "      <td>17.045895</td>\n",
       "      <td>14.733752</td>\n",
       "      <td>15.168304</td>\n",
       "      <td>13.376666</td>\n",
       "      <td>107391385</td>\n",
       "      <td>LREN3.SA</td>\n",
       "      <td>True</td>\n",
       "    </tr>\n",
       "    <tr>\n",
       "      <th>58</th>\n",
       "      <td>2015-11-01</td>\n",
       "      <td>15.168304</td>\n",
       "      <td>16.603144</td>\n",
       "      <td>14.282803</td>\n",
       "      <td>14.348395</td>\n",
       "      <td>12.653604</td>\n",
       "      <td>89516949</td>\n",
       "      <td>LREN3.SA</td>\n",
       "      <td>False</td>\n",
       "    </tr>\n",
       "  </tbody>\n",
       "</table>\n",
       "</div>"
      ],
      "text/plain": [
       "    Unnamed: 0       open       high        low      close   adjclose  \\\n",
       "0   2011-01-01   9.264964   9.492898   7.756332   7.936712   6.187789   \n",
       "1   2011-02-01   8.033461   8.736943   7.756332   8.363064   6.520191   \n",
       "2   2011-03-01   8.364704   9.059987   8.140049   8.672990   6.761822   \n",
       "3   2011-04-01   8.672990   9.660159   8.625435   9.519135   7.440603   \n",
       "4   2011-05-01   9.512576   9.819222   8.896005   9.814302   7.843419   \n",
       "5   2011-06-01   9.715913  10.243934   9.100982   9.756909   7.797547   \n",
       "6   2011-07-01   9.776586  10.114389   8.650032   8.989474   7.201477   \n",
       "7   2011-08-01   9.202651   9.888094   7.192235   9.814302   7.862252   \n",
       "8   2011-09-01  10.150465  10.822789   7.808806   8.305671   6.653684   \n",
       "9   2011-10-01   8.199083   9.369912   7.838323   8.536885   6.857863   \n",
       "10  2011-11-01   8.199083   8.961598   7.985907   8.887806   7.139767   \n",
       "11  2011-12-01   8.923882   9.074745   7.280785   7.938352   6.377050   \n",
       "12  2012-01-01   7.938352   9.966805   7.938352   9.674918   7.794593   \n",
       "13  2012-02-01   9.756909  10.812951   9.510936  10.721121   8.637468   \n",
       "14  2012-03-01  10.737519  11.055643  10.042237  10.281650   8.283403   \n",
       "15  2012-04-01  10.365281  10.575177   9.373192  10.047156   8.112964   \n",
       "16  2012-05-01  10.047156  10.565338   9.068186   9.535533   7.869822   \n",
       "17  2012-06-01   9.481419   9.976644   8.759900   9.240366   7.626218   \n",
       "18  2012-07-01   9.192812  10.222617   8.609037  10.047156   8.313083   \n",
       "19  2012-08-01  10.052076  11.255701   9.633922  10.973653   9.079674   \n",
       "20  2012-09-01  11.029406  12.237951  10.742438  11.134355   9.212640   \n",
       "21  2012-10-01  11.065482  12.815167  11.063843  12.331421  10.224215   \n",
       "22  2012-11-01  12.316662  13.061139  12.077249  12.815167  10.625299   \n",
       "23  2012-12-01  12.926674  13.334989  12.647905  13.077537  10.842834   \n",
       "24  2013-01-01  13.077537  13.323510  12.560995  13.070978  10.857711   \n",
       "25  2013-02-01  13.133291  13.146410  11.937865  12.357658  10.265176   \n",
       "26  2013-03-01  12.242871  12.544597  11.557427  12.436369  10.330560   \n",
       "27  2013-04-01  12.218273  12.575753  11.531190  12.560995  10.448776   \n",
       "28  2013-05-01  12.560995  13.438297  12.085448  12.216634  10.358820   \n",
       "29  2013-06-01  12.239591  12.397013  10.343963  10.478428   8.884948   \n",
       "30  2013-07-01  10.658808  10.722761   9.760188   9.904492   8.411552   \n",
       "31  2013-08-01   9.953687  10.881823   9.150176   9.410907   7.992366   \n",
       "32  2013-09-01   9.486339  11.701731   9.486339  10.417755   8.847446   \n",
       "33  2013-10-01  10.493186  11.527911  10.219337  11.068762   9.414693   \n",
       "34  2013-11-01  11.113037  11.226184   9.927450  10.248854   8.717310   \n",
       "35  2013-12-01  10.104550  10.488267   9.714273  10.002881   8.508094   \n",
       "36  2014-01-01  10.002881  10.132427   8.940280   9.089503   7.745146   \n",
       "37  2014-02-01   9.089503   9.743790   8.668070   9.461742   8.062334   \n",
       "38  2014-03-01   9.461742  10.626011   9.322357  10.530902   8.973358   \n",
       "39  2014-04-01  10.503025  10.950695  10.086512  10.757197   9.185578   \n",
       "40  2014-05-01  10.757197  11.445920  10.701443  11.158952   9.643590   \n",
       "41  2014-06-01  11.088440  12.082169  10.871984  11.609901  10.033301   \n",
       "42  2014-07-01  11.678774  12.177278  11.172070  11.232744   9.724645   \n",
       "43  2014-08-01  11.232744  12.626588  11.093359  12.593791  10.902959   \n",
       "44  2014-09-01  12.667583  12.667583  10.927738  11.655816  10.090915   \n",
       "45  2014-10-01  11.452479  12.442928  10.722761  12.167439  10.553313   \n",
       "46  2014-11-01  12.082169  12.703659  11.537750  12.536398  10.873325   \n",
       "47  2014-12-01  12.134643  12.626588  11.470517  12.539678  10.876170   \n",
       "48  2015-01-01  12.539678  12.560995  11.463958  11.560707  10.044942   \n",
       "49  2015-02-01  11.645977  13.897446  11.473797  13.789218  11.981265   \n",
       "50  2015-03-01  13.743303  14.945289  13.190685  14.886255  12.934469   \n",
       "51  2015-04-01  14.989564  17.275469  14.799345  17.226274  14.997431   \n",
       "52  2015-05-01  17.226274  19.102224  16.890112  17.554237  15.420111   \n",
       "53  2015-06-01  17.554237  19.056309  17.201675  18.529928  16.277178   \n",
       "54  2015-07-01  18.661114  19.413790  16.972101  17.855963  15.711619   \n",
       "55  2015-08-01  17.687061  17.783812  15.135507  16.155474  14.215338   \n",
       "56  2015-09-01  15.699604  17.044254  14.725553  15.086313  13.274573   \n",
       "57  2015-10-01  15.151905  17.045895  14.733752  15.168304  13.376666   \n",
       "58  2015-11-01  15.168304  16.603144  14.282803  14.348395  12.653604   \n",
       "\n",
       "       volume    ticker  result  \n",
       "0   149128856  LREN3.SA   False  \n",
       "1   120569757  LREN3.SA   False  \n",
       "2   106565665  LREN3.SA   False  \n",
       "3    87893355  LREN3.SA   False  \n",
       "4   108838470  LREN3.SA   False  \n",
       "5   109873248  LREN3.SA   False  \n",
       "6    99709191  LREN3.SA   False  \n",
       "7   189240653  LREN3.SA   False  \n",
       "8   171428298  LREN3.SA   False  \n",
       "9   126794044  LREN3.SA   False  \n",
       "10  108943876  LREN3.SA   False  \n",
       "11  100103863  LREN3.SA   False  \n",
       "12  112661365  LREN3.SA   False  \n",
       "13   98330495  LREN3.SA   False  \n",
       "14  111417936  LREN3.SA   False  \n",
       "15  136180457  LREN3.SA   False  \n",
       "16  125685383  LREN3.SA   False  \n",
       "17   94921577  LREN3.SA   False  \n",
       "18  106255773  LREN3.SA   False  \n",
       "19  126323869  LREN3.SA   False  \n",
       "20  109664079  LREN3.SA    True  \n",
       "21  141194432  LREN3.SA   False  \n",
       "22   75518190  LREN3.SA   False  \n",
       "23   68929038  LREN3.SA   False  \n",
       "24   80185784  LREN3.SA   False  \n",
       "25   90756478  LREN3.SA   False  \n",
       "26  106390541  LREN3.SA   False  \n",
       "27  134458924  LREN3.SA   False  \n",
       "28   98636625  LREN3.SA    True  \n",
       "29  140689499  LREN3.SA   False  \n",
       "30  109380510  LREN3.SA   False  \n",
       "31  131469561  LREN3.SA   False  \n",
       "32  132054994  LREN3.SA   False  \n",
       "33  106260038  LREN3.SA   False  \n",
       "34   84925338  LREN3.SA   False  \n",
       "35   85706522  LREN3.SA   False  \n",
       "36  141974397  LREN3.SA   False  \n",
       "37  121319039  LREN3.SA   False  \n",
       "38   76372554  LREN3.SA   False  \n",
       "39   87199983  LREN3.SA   False  \n",
       "40   87229255  LREN3.SA   False  \n",
       "41   84204526  LREN3.SA   False  \n",
       "42   83460538  LREN3.SA   False  \n",
       "43   81106618  LREN3.SA   False  \n",
       "44  102443147  LREN3.SA   False  \n",
       "45  104692180  LREN3.SA   False  \n",
       "46   60209161  LREN3.SA   False  \n",
       "47   17663061  LREN3.SA   False  \n",
       "48  107391872  LREN3.SA   False  \n",
       "49  116161146  LREN3.SA   False  \n",
       "50  118025379  LREN3.SA   False  \n",
       "51   86862746  LREN3.SA   False  \n",
       "52   85921792  LREN3.SA    True  \n",
       "53   98157307  LREN3.SA   False  \n",
       "54   86795057  LREN3.SA   False  \n",
       "55  130799367  LREN3.SA   False  \n",
       "56  107481763  LREN3.SA   False  \n",
       "57  107391385  LREN3.SA    True  \n",
       "58   89516949  LREN3.SA   False  "
      ]
     },
     "execution_count": 24,
     "metadata": {},
     "output_type": "execute_result"
    }
   ],
   "source": [
    "stock"
   ]
  },
  {
   "cell_type": "code",
   "execution_count": 25,
   "metadata": {},
   "outputs": [],
   "source": [
    "# select the raws containing only the inverted hammer data\n",
    "new_df = stock.loc[stock['result'] == True]"
   ]
  },
  {
   "cell_type": "code",
   "execution_count": 26,
   "metadata": {},
   "outputs": [
    {
     "data": {
      "text/html": [
       "<div>\n",
       "<style scoped>\n",
       "    .dataframe tbody tr th:only-of-type {\n",
       "        vertical-align: middle;\n",
       "    }\n",
       "\n",
       "    .dataframe tbody tr th {\n",
       "        vertical-align: top;\n",
       "    }\n",
       "\n",
       "    .dataframe thead th {\n",
       "        text-align: right;\n",
       "    }\n",
       "</style>\n",
       "<table border=\"1\" class=\"dataframe\">\n",
       "  <thead>\n",
       "    <tr style=\"text-align: right;\">\n",
       "      <th></th>\n",
       "      <th>Unnamed: 0</th>\n",
       "      <th>open</th>\n",
       "      <th>high</th>\n",
       "      <th>low</th>\n",
       "      <th>close</th>\n",
       "      <th>adjclose</th>\n",
       "      <th>volume</th>\n",
       "      <th>ticker</th>\n",
       "      <th>result</th>\n",
       "    </tr>\n",
       "  </thead>\n",
       "  <tbody>\n",
       "    <tr>\n",
       "      <th>20</th>\n",
       "      <td>2012-09-01</td>\n",
       "      <td>11.029406</td>\n",
       "      <td>12.237951</td>\n",
       "      <td>10.742438</td>\n",
       "      <td>11.134355</td>\n",
       "      <td>9.212640</td>\n",
       "      <td>109664079</td>\n",
       "      <td>LREN3.SA</td>\n",
       "      <td>True</td>\n",
       "    </tr>\n",
       "    <tr>\n",
       "      <th>28</th>\n",
       "      <td>2013-05-01</td>\n",
       "      <td>12.560995</td>\n",
       "      <td>13.438297</td>\n",
       "      <td>12.085448</td>\n",
       "      <td>12.216634</td>\n",
       "      <td>10.358820</td>\n",
       "      <td>98636625</td>\n",
       "      <td>LREN3.SA</td>\n",
       "      <td>True</td>\n",
       "    </tr>\n",
       "    <tr>\n",
       "      <th>52</th>\n",
       "      <td>2015-05-01</td>\n",
       "      <td>17.226274</td>\n",
       "      <td>19.102224</td>\n",
       "      <td>16.890112</td>\n",
       "      <td>17.554237</td>\n",
       "      <td>15.420111</td>\n",
       "      <td>85921792</td>\n",
       "      <td>LREN3.SA</td>\n",
       "      <td>True</td>\n",
       "    </tr>\n",
       "    <tr>\n",
       "      <th>57</th>\n",
       "      <td>2015-10-01</td>\n",
       "      <td>15.151905</td>\n",
       "      <td>17.045895</td>\n",
       "      <td>14.733752</td>\n",
       "      <td>15.168304</td>\n",
       "      <td>13.376666</td>\n",
       "      <td>107391385</td>\n",
       "      <td>LREN3.SA</td>\n",
       "      <td>True</td>\n",
       "    </tr>\n",
       "  </tbody>\n",
       "</table>\n",
       "</div>"
      ],
      "text/plain": [
       "    Unnamed: 0       open       high        low      close   adjclose  \\\n",
       "20  2012-09-01  11.029406  12.237951  10.742438  11.134355   9.212640   \n",
       "28  2013-05-01  12.560995  13.438297  12.085448  12.216634  10.358820   \n",
       "52  2015-05-01  17.226274  19.102224  16.890112  17.554237  15.420111   \n",
       "57  2015-10-01  15.151905  17.045895  14.733752  15.168304  13.376666   \n",
       "\n",
       "       volume    ticker  result  \n",
       "20  109664079  LREN3.SA    True  \n",
       "28   98636625  LREN3.SA    True  \n",
       "52   85921792  LREN3.SA    True  \n",
       "57  107391385  LREN3.SA    True  "
      ]
     },
     "execution_count": 26,
     "metadata": {},
     "output_type": "execute_result"
    }
   ],
   "source": [
    "new_df\n",
    "# show the new dataframe containing only the inverted hammer data"
   ]
  },
  {
   "cell_type": "code",
   "execution_count": 27,
   "metadata": {},
   "outputs": [
    {
     "data": {
      "text/plain": [
       "Unnamed: 0    2015-10-01\n",
       "open           15.151905\n",
       "high           17.045895\n",
       "low            14.733752\n",
       "close          15.168304\n",
       "adjclose       13.376666\n",
       "volume         107391385\n",
       "ticker          LREN3.SA\n",
       "result              True\n",
       "Name: 57, dtype: object"
      ]
     },
     "execution_count": 27,
     "metadata": {},
     "output_type": "execute_result"
    }
   ],
   "source": [
    "stock.loc[57] # show content of line 57 "
   ]
  },
  {
   "cell_type": "code",
   "execution_count": 28,
   "metadata": {},
   "outputs": [
    {
     "data": {
      "text/plain": [
       "4"
      ]
     },
     "execution_count": 28,
     "metadata": {},
     "output_type": "execute_result"
    }
   ],
   "source": [
    "inicio = new_df['close'].count()\n",
    "inicio"
   ]
  },
  {
   "cell_type": "code",
   "execution_count": 29,
   "metadata": {},
   "outputs": [
    {
     "data": {
      "text/plain": [
       "Int64Index([20, 28, 52, 57], dtype='int64')"
      ]
     },
     "execution_count": 29,
     "metadata": {},
     "output_type": "execute_result"
    }
   ],
   "source": [
    "new_df.index"
   ]
  },
  {
   "cell_type": "code",
   "execution_count": 30,
   "metadata": {},
   "outputs": [
    {
     "data": {
      "text/plain": [
       "20"
      ]
     },
     "execution_count": 30,
     "metadata": {},
     "output_type": "execute_result"
    }
   ],
   "source": [
    "new_list = new_df.index.tolist()\n",
    "new_list[0]"
   ]
  },
  {
   "cell_type": "code",
   "execution_count": 31,
   "metadata": {},
   "outputs": [
    {
     "name": "stdout",
     "output_type": "stream",
     "text": [
      "Uptrend confirmed!\n",
      "    In candle:  20\n",
      "Bearish trend confirmed!\n",
      "    In candle:  28\n",
      "Uptrend confirmed!\n",
      "    In candle:  52\n",
      "Bearish trend confirmed!\n",
      "    In candle:  57\n"
     ]
    }
   ],
   "source": [
    "# suggests the trend according inverted hammer\n",
    "\n",
    "for a in range(inicio):\n",
    "    c = new_list[a]\n",
    "    b = new_list[a]+1\n",
    "    if new_df['close'][c] < stock['close'][b]:\n",
    "        print(\"Uptrend confirmed!\")\n",
    "        print(\"    In candle: \", c)\n",
    "    elif new_df['close'][c] > stock['close'][b]:    \n",
    "        print(\"Bearish trend confirmed!\")\n",
    "        print(\"    In candle: \", c)\n",
    "    else:    \n",
    "        print(\"Sideway market or consolidation!\")\n",
    "        print(\"    In candle: \", c)"
   ]
  },
  {
   "cell_type": "markdown",
   "metadata": {},
   "source": [
    "# Creating a new dataframe with the points of buy and sell"
   ]
  },
  {
   "cell_type": "code",
   "execution_count": 32,
   "metadata": {},
   "outputs": [],
   "source": [
    "stock.loc[stock['result'] != False, 'nova'] = stock['close']"
   ]
  },
  {
   "cell_type": "code",
   "execution_count": 33,
   "metadata": {},
   "outputs": [
    {
     "data": {
      "text/plain": [
       "0           NaN\n",
       "1           NaN\n",
       "2           NaN\n",
       "3           NaN\n",
       "4           NaN\n",
       "5           NaN\n",
       "6           NaN\n",
       "7           NaN\n",
       "8           NaN\n",
       "9           NaN\n",
       "10          NaN\n",
       "11          NaN\n",
       "12          NaN\n",
       "13          NaN\n",
       "14          NaN\n",
       "15          NaN\n",
       "16          NaN\n",
       "17          NaN\n",
       "18          NaN\n",
       "19          NaN\n",
       "20    11.134355\n",
       "21          NaN\n",
       "22          NaN\n",
       "23          NaN\n",
       "24          NaN\n",
       "25          NaN\n",
       "26          NaN\n",
       "27          NaN\n",
       "28    12.216634\n",
       "29          NaN\n",
       "30          NaN\n",
       "31          NaN\n",
       "32          NaN\n",
       "33          NaN\n",
       "34          NaN\n",
       "35          NaN\n",
       "36          NaN\n",
       "37          NaN\n",
       "38          NaN\n",
       "39          NaN\n",
       "40          NaN\n",
       "41          NaN\n",
       "42          NaN\n",
       "43          NaN\n",
       "44          NaN\n",
       "45          NaN\n",
       "46          NaN\n",
       "47          NaN\n",
       "48          NaN\n",
       "49          NaN\n",
       "50          NaN\n",
       "51          NaN\n",
       "52    17.554237\n",
       "53          NaN\n",
       "54          NaN\n",
       "55          NaN\n",
       "56          NaN\n",
       "57    15.168304\n",
       "58          NaN\n",
       "Name: nova, dtype: float64"
      ]
     },
     "execution_count": 33,
     "metadata": {},
     "output_type": "execute_result"
    }
   ],
   "source": [
    "stock['nova'] "
   ]
  },
  {
   "cell_type": "code",
   "execution_count": 34,
   "metadata": {},
   "outputs": [
    {
     "data": {
      "text/plain": [
       "8.36306381225586"
      ]
     },
     "execution_count": 34,
     "metadata": {},
     "output_type": "execute_result"
    }
   ],
   "source": [
    "stock.loc[1,'close']"
   ]
  },
  {
   "cell_type": "markdown",
   "metadata": {},
   "source": [
    "# Figure showing the points of buy and sell"
   ]
  },
  {
   "cell_type": "code",
   "execution_count": 35,
   "metadata": {},
   "outputs": [
    {
     "data": {
      "image/png": "[encoded data removed]",
      "text/plain": [
       "<Figure size 640x480 with 1 Axes>"
      ]
     },
     "metadata": {},
     "output_type": "display_data"
    }
   ],
   "source": [
    "import matplotlib.pyplot as plt\n",
    "\n",
    "fig, ax = plt.subplots()\n",
    "# alpha. Change the line opacity in Matplotlib. blending value, between 0 (transparent) and 1 (opaque)\n",
    "ax.plot(stock.index,stock['close'],label='Close',alpha=0.9)\n",
    "\n",
    "# Add Inverted Hammer\n",
    "ax.scatter(stock.index,stock['nova'],label='Inverted Hammer',marker='^',color='green')\n",
    "\n",
    "fig.autofmt_xdate()\n",
    "ax.legend()\n",
    "\n",
    "ax.yaxis.set_major_formatter('R${x:}')  \n",
    "ax.set_title(\"Inverted Hammer\")\n",
    "ax.set_xlabel('Time')\n",
    "plt.show()"
   ]
  },
  {
   "cell_type": "markdown",
   "metadata": {},
   "source": [
    "## Plotting using candlestick"
   ]
  },
  {
   "cell_type": "code",
   "execution_count": 36,
   "metadata": {},
   "outputs": [
    {
     "data": {
      "application/vnd.plotly.v1+json": {
       "config": {
        "plotlyServerURL": "https://plot.ly"
       },
       "data": [
        {
         "close": [
          7.93671178817749,
          8.36306381225586,
          8.672989845275879,
          9.519135475158691,
          9.814302444458008,
          9.756909370422363,
          8.989474296569824,
          9.814302444458008,
          8.305670738220215,
          8.536885261535645,
          8.887805938720703,
          7.938352108001709,
          9.674918174743652,
          10.721120834350586,
          10.281649589538574,
          10.04715633392334,
          9.53553295135498,
          9.240365982055664,
          10.04715633392334,
          10.973652839660645,
          11.134354591369627,
          12.3314208984375,
          12.815167427062988,
          13.077536582946776,
          13.070978164672852,
          12.357658386230469,
          12.436368942260742,
          12.560995101928713,
          12.216633796691896,
          10.47842788696289,
          9.904492378234863,
          9.410906791687012,
          10.417755126953123,
          11.068761825561523,
          10.24885368347168,
          10.002881050109863,
          9.089503288269045,
          9.461742401123049,
          10.530901908874512,
          10.757197380065918,
          11.15895175933838,
          11.609901428222656,
          11.232744216918944,
          12.593791007995604,
          11.655816078186035,
          12.167439460754396,
          12.53639793395996,
          12.539677619934082,
          11.560707092285156,
          13.789217948913574,
          14.886255264282228,
          17.226274490356445,
          17.554237365722656,
          18.52992820739746,
          17.8559627532959,
          16.155473709106445,
          15.086313247680664,
          15.168304443359377,
          14.348395347595217
         ],
         "high": [
          9.492897987365724,
          8.736943244934082,
          9.05998706817627,
          9.66015911102295,
          9.819222450256348,
          10.24393367767334,
          10.114389419555664,
          9.888093948364258,
          10.822789192199709,
          9.369912147521973,
          8.96159839630127,
          9.074745178222656,
          9.966805458068848,
          10.81295108795166,
          11.05564308166504,
          10.575177192687988,
          10.565338134765623,
          9.976643562316896,
          10.222617149353027,
          11.255701065063477,
          12.237951278686523,
          12.815167427062988,
          13.061139106750488,
          13.334988594055176,
          13.32351016998291,
          13.14640998840332,
          12.544596672058104,
          12.575753211975098,
          13.438297271728516,
          12.397012710571287,
          10.722761154174805,
          10.88182258605957,
          11.701730728149414,
          11.527911186218262,
          11.226183891296388,
          10.488266944885254,
          10.132427215576172,
          9.743789672851562,
          10.62601089477539,
          10.950695037841797,
          11.44591999053955,
          12.082168579101562,
          12.17727756500244,
          12.626587867736816,
          12.667583465576172,
          12.442928314208984,
          12.703659057617188,
          12.626587867736816,
          12.560995101928713,
          13.897445678710938,
          14.94528865814209,
          17.275468826293945,
          19.102224349975582,
          19.05630874633789,
          19.413789749145508,
          17.783811569213867,
          17.044254302978516,
          17.045894622802734,
          16.6031436920166
         ],
         "low": [
          7.756331920623779,
          7.756331920623779,
          8.14004898071289,
          8.625434875488281,
          8.896004676818848,
          9.100981712341309,
          8.650032043457031,
          7.192234992980957,
          7.8088059425354,
          7.83832311630249,
          7.985907077789307,
          7.280785083770752,
          7.938352108001709,
          9.51093578338623,
          10.042237281799316,
          9.373191833496094,
          9.068185806274414,
          8.759900093078613,
          8.609037399291992,
          9.63392162322998,
          10.742438316345217,
          11.0638427734375,
          12.077248573303224,
          12.647905349731444,
          12.560995101928713,
          11.937865257263184,
          11.557427406311035,
          11.531189918518066,
          12.085448265075684,
          10.34396266937256,
          9.760188102722168,
          9.150176048278809,
          9.48633861541748,
          10.219337463378906,
          9.927450180053713,
          9.714273452758787,
          8.940279960632324,
          8.668069839477539,
          9.322357177734377,
          10.086511611938477,
          10.70144271850586,
          10.871983528137209,
          11.172069549560549,
          11.093358993530272,
          10.927738189697266,
          10.722761154174805,
          11.537750244140623,
          11.4705171585083,
          11.46395778656006,
          11.473796844482422,
          13.190685272216797,
          14.799345016479492,
          16.890111923217773,
          17.201675415039062,
          16.97210121154785,
          15.135506629943848,
          14.725552558898926,
          14.733752250671388,
          14.28280258178711
         ],
         "open": [
          9.26496410369873,
          8.03346061706543,
          8.364704132080078,
          8.672989845275879,
          9.51257610321045,
          9.715912818908691,
          9.776585578918455,
          9.202651023864746,
          10.15046501159668,
          8.19908332824707,
          8.19908332824707,
          8.923881530761719,
          7.938352108001709,
          9.756909370422363,
          10.737519264221191,
          10.365281105041504,
          10.04715633392334,
          9.48141860961914,
          9.192811965942385,
          10.05207633972168,
          11.02940559387207,
          11.065482139587402,
          12.316661834716797,
          12.926673889160156,
          13.077536582946776,
          13.133291244506836,
          12.242871284484863,
          12.218273162841797,
          12.560995101928713,
          12.239590644836426,
          10.658807754516602,
          9.953686714172363,
          9.48633861541748,
          10.493185997009276,
          11.113037109375,
          10.1045503616333,
          10.002881050109863,
          9.089503288269045,
          9.461742401123049,
          10.50302505493164,
          10.757197380065918,
          11.08843994140625,
          11.678773880004885,
          11.232744216918944,
          12.667583465576172,
          11.452479362487791,
          12.082168579101562,
          12.134642601013184,
          12.539677619934082,
          11.645977020263672,
          13.743303298950195,
          14.989563941955566,
          17.226274490356445,
          17.554237365722656,
          18.661113739013672,
          17.687061309814453,
          15.699604034423828,
          15.151905059814451,
          15.168304443359377
         ],
         "type": "candlestick",
         "x": [
          "2011-01-01T00:00:00",
          "2011-02-01T00:00:00",
          "2011-03-01T00:00:00",
          "2011-04-01T00:00:00",
          "2011-05-01T00:00:00",
          "2011-06-01T00:00:00",
          "2011-07-01T00:00:00",
          "2011-08-01T00:00:00",
          "2011-09-01T00:00:00",
          "2011-10-01T00:00:00",
          "2011-11-01T00:00:00",
          "2011-12-01T00:00:00",
          "2012-01-01T00:00:00",
          "2012-02-01T00:00:00",
          "2012-03-01T00:00:00",
          "2012-04-01T00:00:00",
          "2012-05-01T00:00:00",
          "2012-06-01T00:00:00",
          "2012-07-01T00:00:00",
          "2012-08-01T00:00:00",
          "2012-09-01T00:00:00",
          "2012-10-01T00:00:00",
          "2012-11-01T00:00:00",
          "2012-12-01T00:00:00",
          "2013-01-01T00:00:00",
          "2013-02-01T00:00:00",
          "2013-03-01T00:00:00",
          "2013-04-01T00:00:00",
          "2013-05-01T00:00:00",
          "2013-06-01T00:00:00",
          "2013-07-01T00:00:00",
          "2013-08-01T00:00:00",
          "2013-09-01T00:00:00",
          "2013-10-01T00:00:00",
          "2013-11-01T00:00:00",
          "2013-12-01T00:00:00",
          "2014-01-01T00:00:00",
          "2014-02-01T00:00:00",
          "2014-03-01T00:00:00",
          "2014-04-01T00:00:00",
          "2014-05-01T00:00:00",
          "2014-06-01T00:00:00",
          "2014-07-01T00:00:00",
          "2014-08-01T00:00:00",
          "2014-09-01T00:00:00",
          "2014-10-01T00:00:00",
          "2014-11-01T00:00:00",
          "2014-12-01T00:00:00",
          "2015-01-01T00:00:00",
          "2015-02-01T00:00:00",
          "2015-03-01T00:00:00",
          "2015-04-01T00:00:00",
          "2015-05-01T00:00:00",
          "2015-06-01T00:00:00",
          "2015-07-01T00:00:00",
          "2015-08-01T00:00:00",
          "2015-09-01T00:00:00",
          "2015-10-01T00:00:00",
          "2015-11-01T00:00:00"
         ]
        }
       ],
       "layout": {
        "template": {
         "data": {
          "bar": [
           {
            "error_x": {
             "color": "#2a3f5f"
            },
            "error_y": {
             "color": "#2a3f5f"
            },
            "marker": {
             "line": {
              "color": "#E5ECF6",
              "width": 0.5
             },
             "pattern": {
              "fillmode": "overlay",
              "size": 10,
              "solidity": 0.2
             }
            },
            "type": "bar"
           }
          ],
          "barpolar": [
           {
            "marker": {
             "line": {
              "color": "#E5ECF6",
              "width": 0.5
             },
             "pattern": {
              "fillmode": "overlay",
              "size": 10,
              "solidity": 0.2
             }
            },
            "type": "barpolar"
           }
          ],
          "carpet": [
           {
            "aaxis": {
             "endlinecolor": "#2a3f5f",
             "gridcolor": "white",
             "linecolor": "white",
             "minorgridcolor": "white",
             "startlinecolor": "#2a3f5f"
            },
            "baxis": {
             "endlinecolor": "#2a3f5f",
             "gridcolor": "white",
             "linecolor": "white",
             "minorgridcolor": "white",
             "startlinecolor": "#2a3f5f"
            },
            "type": "carpet"
           }
          ],
          "choropleth": [
           {
            "colorbar": {
             "outlinewidth": 0,
             "ticks": ""
            },
            "type": "choropleth"
           }
          ],
          "contour": [
           {
            "colorbar": {
             "outlinewidth": 0,
             "ticks": ""
            },
            "colorscale": [
             [
              0,
              "#0d0887"
             ],
             [
              0.1111111111111111,
              "#46039f"
             ],
             [
              0.2222222222222222,
              "#7201a8"
             ],
             [
              0.3333333333333333,
              "#9c179e"
             ],
             [
              0.4444444444444444,
              "#bd3786"
             ],
             [
              0.5555555555555556,
              "#d8576b"
             ],
             [
              0.6666666666666666,
              "#ed7953"
             ],
             [
              0.7777777777777778,
              "#fb9f3a"
             ],
             [
              0.8888888888888888,
              "#fdca26"
             ],
             [
              1,
              "#f0f921"
             ]
            ],
            "type": "contour"
           }
          ],
          "contourcarpet": [
           {
            "colorbar": {
             "outlinewidth": 0,
             "ticks": ""
            },
            "type": "contourcarpet"
           }
          ],
          "heatmap": [
           {
            "colorbar": {
             "outlinewidth": 0,
             "ticks": ""
            },
            "colorscale": [
             [
              0,
              "#0d0887"
             ],
             [
              0.1111111111111111,
              "#46039f"
             ],
             [
              0.2222222222222222,
              "#7201a8"
             ],
             [
              0.3333333333333333,
              "#9c179e"
             ],
             [
              0.4444444444444444,
              "#bd3786"
             ],
             [
              0.5555555555555556,
              "#d8576b"
             ],
             [
              0.6666666666666666,
              "#ed7953"
             ],
             [
              0.7777777777777778,
              "#fb9f3a"
             ],
             [
              0.8888888888888888,
              "#fdca26"
             ],
             [
              1,
              "#f0f921"
             ]
            ],
            "type": "heatmap"
           }
          ],
          "heatmapgl": [
           {
            "colorbar": {
             "outlinewidth": 0,
             "ticks": ""
            },
            "colorscale": [
             [
              0,
              "#0d0887"
             ],
             [
              0.1111111111111111,
              "#46039f"
             ],
             [
              0.2222222222222222,
              "#7201a8"
             ],
             [
              0.3333333333333333,
              "#9c179e"
             ],
             [
              0.4444444444444444,
              "#bd3786"
             ],
             [
              0.5555555555555556,
              "#d8576b"
             ],
             [
              0.6666666666666666,
              "#ed7953"
             ],
             [
              0.7777777777777778,
              "#fb9f3a"
             ],
             [
              0.8888888888888888,
              "#fdca26"
             ],
             [
              1,
              "#f0f921"
             ]
            ],
            "type": "heatmapgl"
           }
          ],
          "histogram": [
           {
            "marker": {
             "pattern": {
              "fillmode": "overlay",
              "size": 10,
              "solidity": 0.2
             }
            },
            "type": "histogram"
           }
          ],
          "histogram2d": [
           {
            "colorbar": {
             "outlinewidth": 0,
             "ticks": ""
            },
            "colorscale": [
             [
              0,
              "#0d0887"
             ],
             [
              0.1111111111111111,
              "#46039f"
             ],
             [
              0.2222222222222222,
              "#7201a8"
             ],
             [
              0.3333333333333333,
              "#9c179e"
             ],
             [
              0.4444444444444444,
              "#bd3786"
             ],
             [
              0.5555555555555556,
              "#d8576b"
             ],
             [
              0.6666666666666666,
              "#ed7953"
             ],
             [
              0.7777777777777778,
              "#fb9f3a"
             ],
             [
              0.8888888888888888,
              "#fdca26"
             ],
             [
              1,
              "#f0f921"
             ]
            ],
            "type": "histogram2d"
           }
          ],
          "histogram2dcontour": [
           {
            "colorbar": {
             "outlinewidth": 0,
             "ticks": ""
            },
            "colorscale": [
             [
              0,
              "#0d0887"
             ],
             [
              0.1111111111111111,
              "#46039f"
             ],
             [
              0.2222222222222222,
              "#7201a8"
             ],
             [
              0.3333333333333333,
              "#9c179e"
             ],
             [
              0.4444444444444444,
              "#bd3786"
             ],
             [
              0.5555555555555556,
              "#d8576b"
             ],
             [
              0.6666666666666666,
              "#ed7953"
             ],
             [
              0.7777777777777778,
              "#fb9f3a"
             ],
             [
              0.8888888888888888,
              "#fdca26"
             ],
             [
              1,
              "#f0f921"
             ]
            ],
            "type": "histogram2dcontour"
           }
          ],
          "mesh3d": [
           {
            "colorbar": {
             "outlinewidth": 0,
             "ticks": ""
            },
            "type": "mesh3d"
           }
          ],
          "parcoords": [
           {
            "line": {
             "colorbar": {
              "outlinewidth": 0,
              "ticks": ""
             }
            },
            "type": "parcoords"
           }
          ],
          "pie": [
           {
            "automargin": true,
            "type": "pie"
           }
          ],
          "scatter": [
           {
            "fillpattern": {
             "fillmode": "overlay",
             "size": 10,
             "solidity": 0.2
            },
            "type": "scatter"
           }
          ],
          "scatter3d": [
           {
            "line": {
             "colorbar": {
              "outlinewidth": 0,
              "ticks": ""
             }
            },
            "marker": {
             "colorbar": {
              "outlinewidth": 0,
              "ticks": ""
             }
            },
            "type": "scatter3d"
           }
          ],
          "scattercarpet": [
           {
            "marker": {
             "colorbar": {
              "outlinewidth": 0,
              "ticks": ""
             }
            },
            "type": "scattercarpet"
           }
          ],
          "scattergeo": [
           {
            "marker": {
             "colorbar": {
              "outlinewidth": 0,
              "ticks": ""
             }
            },
            "type": "scattergeo"
           }
          ],
          "scattergl": [
           {
            "marker": {
             "colorbar": {
              "outlinewidth": 0,
              "ticks": ""
             }
            },
            "type": "scattergl"
           }
          ],
          "scattermapbox": [
           {
            "marker": {
             "colorbar": {
              "outlinewidth": 0,
              "ticks": ""
             }
            },
            "type": "scattermapbox"
           }
          ],
          "scatterpolar": [
           {
            "marker": {
             "colorbar": {
              "outlinewidth": 0,
              "ticks": ""
             }
            },
            "type": "scatterpolar"
           }
          ],
          "scatterpolargl": [
           {
            "marker": {
             "colorbar": {
              "outlinewidth": 0,
              "ticks": ""
             }
            },
            "type": "scatterpolargl"
           }
          ],
          "scatterternary": [
           {
            "marker": {
             "colorbar": {
              "outlinewidth": 0,
              "ticks": ""
             }
            },
            "type": "scatterternary"
           }
          ],
          "surface": [
           {
            "colorbar": {
             "outlinewidth": 0,
             "ticks": ""
            },
            "colorscale": [
             [
              0,
              "#0d0887"
             ],
             [
              0.1111111111111111,
              "#46039f"
             ],
             [
              0.2222222222222222,
              "#7201a8"
             ],
             [
              0.3333333333333333,
              "#9c179e"
             ],
             [
              0.4444444444444444,
              "#bd3786"
             ],
             [
              0.5555555555555556,
              "#d8576b"
             ],
             [
              0.6666666666666666,
              "#ed7953"
             ],
             [
              0.7777777777777778,
              "#fb9f3a"
             ],
             [
              0.8888888888888888,
              "#fdca26"
             ],
             [
              1,
              "#f0f921"
             ]
            ],
            "type": "surface"
           }
          ],
          "table": [
           {
            "cells": {
             "fill": {
              "color": "#EBF0F8"
             },
             "line": {
              "color": "white"
             }
            },
            "header": {
             "fill": {
              "color": "#C8D4E3"
             },
             "line": {
              "color": "white"
             }
            },
            "type": "table"
           }
          ]
         },
         "layout": {
          "annotationdefaults": {
           "arrowcolor": "#2a3f5f",
           "arrowhead": 0,
           "arrowwidth": 1
          },
          "autotypenumbers": "strict",
          "coloraxis": {
           "colorbar": {
            "outlinewidth": 0,
            "ticks": ""
           }
          },
          "colorscale": {
           "diverging": [
            [
             0,
             "#8e0152"
            ],
            [
             0.1,
             "#c51b7d"
            ],
            [
             0.2,
             "#de77ae"
            ],
            [
             0.3,
             "#f1b6da"
            ],
            [
             0.4,
             "#fde0ef"
            ],
            [
             0.5,
             "#f7f7f7"
            ],
            [
             0.6,
             "#e6f5d0"
            ],
            [
             0.7,
             "#b8e186"
            ],
            [
             0.8,
             "#7fbc41"
            ],
            [
             0.9,
             "#4d9221"
            ],
            [
             1,
             "#276419"
            ]
           ],
           "sequential": [
            [
             0,
             "#0d0887"
            ],
            [
             0.1111111111111111,
             "#46039f"
            ],
            [
             0.2222222222222222,
             "#7201a8"
            ],
            [
             0.3333333333333333,
             "#9c179e"
            ],
            [
             0.4444444444444444,
             "#bd3786"
            ],
            [
             0.5555555555555556,
             "#d8576b"
            ],
            [
             0.6666666666666666,
             "#ed7953"
            ],
            [
             0.7777777777777778,
             "#fb9f3a"
            ],
            [
             0.8888888888888888,
             "#fdca26"
            ],
            [
             1,
             "#f0f921"
            ]
           ],
           "sequentialminus": [
            [
             0,
             "#0d0887"
            ],
            [
             0.1111111111111111,
             "#46039f"
            ],
            [
             0.2222222222222222,
             "#7201a8"
            ],
            [
             0.3333333333333333,
             "#9c179e"
            ],
            [
             0.4444444444444444,
             "#bd3786"
            ],
            [
             0.5555555555555556,
             "#d8576b"
            ],
            [
             0.6666666666666666,
             "#ed7953"
            ],
            [
             0.7777777777777778,
             "#fb9f3a"
            ],
            [
             0.8888888888888888,
             "#fdca26"
            ],
            [
             1,
             "#f0f921"
            ]
           ]
          },
          "colorway": [
           "#636efa",
           "#EF553B",
           "#00cc96",
           "#ab63fa",
           "#FFA15A",
           "#19d3f3",
           "#FF6692",
           "#B6E880",
           "#FF97FF",
           "#FECB52"
          ],
          "font": {
           "color": "#2a3f5f"
          },
          "geo": {
           "bgcolor": "white",
           "lakecolor": "white",
           "landcolor": "#E5ECF6",
           "showlakes": true,
           "showland": true,
           "subunitcolor": "white"
          },
          "hoverlabel": {
           "align": "left"
          },
          "hovermode": "closest",
          "mapbox": {
           "style": "light"
          },
          "paper_bgcolor": "white",
          "plot_bgcolor": "#E5ECF6",
          "polar": {
           "angularaxis": {
            "gridcolor": "white",
            "linecolor": "white",
            "ticks": ""
           },
           "bgcolor": "#E5ECF6",
           "radialaxis": {
            "gridcolor": "white",
            "linecolor": "white",
            "ticks": ""
           }
          },
          "scene": {
           "xaxis": {
            "backgroundcolor": "#E5ECF6",
            "gridcolor": "white",
            "gridwidth": 2,
            "linecolor": "white",
            "showbackground": true,
            "ticks": "",
            "zerolinecolor": "white"
           },
           "yaxis": {
            "backgroundcolor": "#E5ECF6",
            "gridcolor": "white",
            "gridwidth": 2,
            "linecolor": "white",
            "showbackground": true,
            "ticks": "",
            "zerolinecolor": "white"
           },
           "zaxis": {
            "backgroundcolor": "#E5ECF6",
            "gridcolor": "white",
            "gridwidth": 2,
            "linecolor": "white",
            "showbackground": true,
            "ticks": "",
            "zerolinecolor": "white"
           }
          },
          "shapedefaults": {
           "line": {
            "color": "#2a3f5f"
           }
          },
          "ternary": {
           "aaxis": {
            "gridcolor": "white",
            "linecolor": "white",
            "ticks": ""
           },
           "baxis": {
            "gridcolor": "white",
            "linecolor": "white",
            "ticks": ""
           },
           "bgcolor": "#E5ECF6",
           "caxis": {
            "gridcolor": "white",
            "linecolor": "white",
            "ticks": ""
           }
          },
          "title": {
           "x": 0.05
          },
          "xaxis": {
           "automargin": true,
           "gridcolor": "white",
           "linecolor": "white",
           "ticks": "",
           "title": {
            "standoff": 15
           },
           "zerolinecolor": "white",
           "zerolinewidth": 2
          },
          "yaxis": {
           "automargin": true,
           "gridcolor": "white",
           "linecolor": "white",
           "ticks": "",
           "title": {
            "standoff": 15
           },
           "zerolinecolor": "white",
           "zerolinewidth": 2
          }
         }
        }
       }
      },
      "text/html": [
       "<div>                            <div id=\"90f34396-0885-4f41-87fb-c9d4e7fa4028\" class=\"plotly-graph-div\" style=\"height:525px; width:100%;\"></div>            <script type=\"text/javascript\">                require([\"plotly\"], function(Plotly) {                    window.PLOTLYENV=window.PLOTLYENV || {};                                    if (document.getElementById(\"90f34396-0885-4f41-87fb-c9d4e7fa4028\")) {                    Plotly.newPlot(                        \"90f34396-0885-4f41-87fb-c9d4e7fa4028\",                        [{\"close\":[7.93671178817749,8.36306381225586,8.672989845275879,9.519135475158691,9.814302444458008,9.756909370422363,8.989474296569824,9.814302444458008,8.305670738220215,8.536885261535645,8.887805938720703,7.938352108001709,9.674918174743652,10.721120834350586,10.281649589538574,10.04715633392334,9.53553295135498,9.240365982055664,10.04715633392334,10.973652839660645,11.134354591369627,12.3314208984375,12.815167427062988,13.077536582946776,13.070978164672852,12.357658386230469,12.436368942260742,12.560995101928713,12.216633796691896,10.47842788696289,9.904492378234863,9.410906791687012,10.417755126953123,11.068761825561523,10.24885368347168,10.002881050109863,9.089503288269045,9.461742401123049,10.530901908874512,10.757197380065918,11.15895175933838,11.609901428222656,11.232744216918944,12.593791007995604,11.655816078186035,12.167439460754396,12.53639793395996,12.539677619934082,11.560707092285156,13.789217948913574,14.886255264282228,17.226274490356445,17.554237365722656,18.52992820739746,17.8559627532959,16.155473709106445,15.086313247680664,15.168304443359377,14.348395347595217],\"high\":[9.492897987365724,8.736943244934082,9.05998706817627,9.66015911102295,9.819222450256348,10.24393367767334,10.114389419555664,9.888093948364258,10.822789192199709,9.369912147521973,8.96159839630127,9.074745178222656,9.966805458068848,10.81295108795166,11.05564308166504,10.575177192687988,10.565338134765623,9.976643562316896,10.222617149353027,11.255701065063477,12.237951278686523,12.815167427062988,13.061139106750488,13.334988594055176,13.32351016998291,13.14640998840332,12.544596672058104,12.575753211975098,13.438297271728516,12.397012710571287,10.722761154174805,10.88182258605957,11.701730728149414,11.527911186218262,11.226183891296388,10.488266944885254,10.132427215576172,9.743789672851562,10.62601089477539,10.950695037841797,11.44591999053955,12.082168579101562,12.17727756500244,12.626587867736816,12.667583465576172,12.442928314208984,12.703659057617188,12.626587867736816,12.560995101928713,13.897445678710938,14.94528865814209,17.275468826293945,19.102224349975582,19.05630874633789,19.413789749145508,17.783811569213867,17.044254302978516,17.045894622802734,16.6031436920166],\"low\":[7.756331920623779,7.756331920623779,8.14004898071289,8.625434875488281,8.896004676818848,9.100981712341309,8.650032043457031,7.192234992980957,7.8088059425354,7.83832311630249,7.985907077789307,7.280785083770752,7.938352108001709,9.51093578338623,10.042237281799316,9.373191833496094,9.068185806274414,8.759900093078613,8.609037399291992,9.63392162322998,10.742438316345217,11.0638427734375,12.077248573303224,12.647905349731444,12.560995101928713,11.937865257263184,11.557427406311035,11.531189918518066,12.085448265075684,10.34396266937256,9.760188102722168,9.150176048278809,9.48633861541748,10.219337463378906,9.927450180053713,9.714273452758787,8.940279960632324,8.668069839477539,9.322357177734377,10.086511611938477,10.70144271850586,10.871983528137209,11.172069549560549,11.093358993530272,10.927738189697266,10.722761154174805,11.537750244140623,11.4705171585083,11.46395778656006,11.473796844482422,13.190685272216797,14.799345016479492,16.890111923217773,17.201675415039062,16.97210121154785,15.135506629943848,14.725552558898926,14.733752250671388,14.28280258178711],\"open\":[9.26496410369873,8.03346061706543,8.364704132080078,8.672989845275879,9.51257610321045,9.715912818908691,9.776585578918455,9.202651023864746,10.15046501159668,8.19908332824707,8.19908332824707,8.923881530761719,7.938352108001709,9.756909370422363,10.737519264221191,10.365281105041504,10.04715633392334,9.48141860961914,9.192811965942385,10.05207633972168,11.02940559387207,11.065482139587402,12.316661834716797,12.926673889160156,13.077536582946776,13.133291244506836,12.242871284484863,12.218273162841797,12.560995101928713,12.239590644836426,10.658807754516602,9.953686714172363,9.48633861541748,10.493185997009276,11.113037109375,10.1045503616333,10.002881050109863,9.089503288269045,9.461742401123049,10.50302505493164,10.757197380065918,11.08843994140625,11.678773880004885,11.232744216918944,12.667583465576172,11.452479362487791,12.082168579101562,12.134642601013184,12.539677619934082,11.645977020263672,13.743303298950195,14.989563941955566,17.226274490356445,17.554237365722656,18.661113739013672,17.687061309814453,15.699604034423828,15.151905059814451,15.168304443359377],\"x\":[\"2011-01-01T00:00:00\",\"2011-02-01T00:00:00\",\"2011-03-01T00:00:00\",\"2011-04-01T00:00:00\",\"2011-05-01T00:00:00\",\"2011-06-01T00:00:00\",\"2011-07-01T00:00:00\",\"2011-08-01T00:00:00\",\"2011-09-01T00:00:00\",\"2011-10-01T00:00:00\",\"2011-11-01T00:00:00\",\"2011-12-01T00:00:00\",\"2012-01-01T00:00:00\",\"2012-02-01T00:00:00\",\"2012-03-01T00:00:00\",\"2012-04-01T00:00:00\",\"2012-05-01T00:00:00\",\"2012-06-01T00:00:00\",\"2012-07-01T00:00:00\",\"2012-08-01T00:00:00\",\"2012-09-01T00:00:00\",\"2012-10-01T00:00:00\",\"2012-11-01T00:00:00\",\"2012-12-01T00:00:00\",\"2013-01-01T00:00:00\",\"2013-02-01T00:00:00\",\"2013-03-01T00:00:00\",\"2013-04-01T00:00:00\",\"2013-05-01T00:00:00\",\"2013-06-01T00:00:00\",\"2013-07-01T00:00:00\",\"2013-08-01T00:00:00\",\"2013-09-01T00:00:00\",\"2013-10-01T00:00:00\",\"2013-11-01T00:00:00\",\"2013-12-01T00:00:00\",\"2014-01-01T00:00:00\",\"2014-02-01T00:00:00\",\"2014-03-01T00:00:00\",\"2014-04-01T00:00:00\",\"2014-05-01T00:00:00\",\"2014-06-01T00:00:00\",\"2014-07-01T00:00:00\",\"2014-08-01T00:00:00\",\"2014-09-01T00:00:00\",\"2014-10-01T00:00:00\",\"2014-11-01T00:00:00\",\"2014-12-01T00:00:00\",\"2015-01-01T00:00:00\",\"2015-02-01T00:00:00\",\"2015-03-01T00:00:00\",\"2015-04-01T00:00:00\",\"2015-05-01T00:00:00\",\"2015-06-01T00:00:00\",\"2015-07-01T00:00:00\",\"2015-08-01T00:00:00\",\"2015-09-01T00:00:00\",\"2015-10-01T00:00:00\",\"2015-11-01T00:00:00\"],\"type\":\"candlestick\"}],                        {\"template\":{\"data\":{\"histogram2dcontour\":[{\"type\":\"histogram2dcontour\",\"colorbar\":{\"outlinewidth\":0,\"ticks\":\"\"},\"colorscale\":[[0.0,\"#0d0887\"],[0.1111111111111111,\"#46039f\"],[0.2222222222222222,\"#7201a8\"],[0.3333333333333333,\"#9c179e\"],[0.4444444444444444,\"#bd3786\"],[0.5555555555555556,\"#d8576b\"],[0.6666666666666666,\"#ed7953\"],[0.7777777777777778,\"#fb9f3a\"],[0.8888888888888888,\"#fdca26\"],[1.0,\"#f0f921\"]]}],\"choropleth\":[{\"type\":\"choropleth\",\"colorbar\":{\"outlinewidth\":0,\"ticks\":\"\"}}],\"histogram2d\":[{\"type\":\"histogram2d\",\"colorbar\":{\"outlinewidth\":0,\"ticks\":\"\"},\"colorscale\":[[0.0,\"#0d0887\"],[0.1111111111111111,\"#46039f\"],[0.2222222222222222,\"#7201a8\"],[0.3333333333333333,\"#9c179e\"],[0.4444444444444444,\"#bd3786\"],[0.5555555555555556,\"#d8576b\"],[0.6666666666666666,\"#ed7953\"],[0.7777777777777778,\"#fb9f3a\"],[0.8888888888888888,\"#fdca26\"],[1.0,\"#f0f921\"]]}],\"heatmap\":[{\"type\":\"heatmap\",\"colorbar\":{\"outlinewidth\":0,\"ticks\":\"\"},\"colorscale\":[[0.0,\"#0d0887\"],[0.1111111111111111,\"#46039f\"],[0.2222222222222222,\"#7201a8\"],[0.3333333333333333,\"#9c179e\"],[0.4444444444444444,\"#bd3786\"],[0.5555555555555556,\"#d8576b\"],[0.6666666666666666,\"#ed7953\"],[0.7777777777777778,\"#fb9f3a\"],[0.8888888888888888,\"#fdca26\"],[1.0,\"#f0f921\"]]}],\"heatmapgl\":[{\"type\":\"heatmapgl\",\"colorbar\":{\"outlinewidth\":0,\"ticks\":\"\"},\"colorscale\":[[0.0,\"#0d0887\"],[0.1111111111111111,\"#46039f\"],[0.2222222222222222,\"#7201a8\"],[0.3333333333333333,\"#9c179e\"],[0.4444444444444444,\"#bd3786\"],[0.5555555555555556,\"#d8576b\"],[0.6666666666666666,\"#ed7953\"],[0.7777777777777778,\"#fb9f3a\"],[0.8888888888888888,\"#fdca26\"],[1.0,\"#f0f921\"]]}],\"contourcarpet\":[{\"type\":\"contourcarpet\",\"colorbar\":{\"outlinewidth\":0,\"ticks\":\"\"}}],\"contour\":[{\"type\":\"contour\",\"colorbar\":{\"outlinewidth\":0,\"ticks\":\"\"},\"colorscale\":[[0.0,\"#0d0887\"],[0.1111111111111111,\"#46039f\"],[0.2222222222222222,\"#7201a8\"],[0.3333333333333333,\"#9c179e\"],[0.4444444444444444,\"#bd3786\"],[0.5555555555555556,\"#d8576b\"],[0.6666666666666666,\"#ed7953\"],[0.7777777777777778,\"#fb9f3a\"],[0.8888888888888888,\"#fdca26\"],[1.0,\"#f0f921\"]]}],\"surface\":[{\"type\":\"surface\",\"colorbar\":{\"outlinewidth\":0,\"ticks\":\"\"},\"colorscale\":[[0.0,\"#0d0887\"],[0.1111111111111111,\"#46039f\"],[0.2222222222222222,\"#7201a8\"],[0.3333333333333333,\"#9c179e\"],[0.4444444444444444,\"#bd3786\"],[0.5555555555555556,\"#d8576b\"],[0.6666666666666666,\"#ed7953\"],[0.7777777777777778,\"#fb9f3a\"],[0.8888888888888888,\"#fdca26\"],[1.0,\"#f0f921\"]]}],\"mesh3d\":[{\"type\":\"mesh3d\",\"colorbar\":{\"outlinewidth\":0,\"ticks\":\"\"}}],\"scatter\":[{\"fillpattern\":{\"fillmode\":\"overlay\",\"size\":10,\"solidity\":0.2},\"type\":\"scatter\"}],\"parcoords\":[{\"type\":\"parcoords\",\"line\":{\"colorbar\":{\"outlinewidth\":0,\"ticks\":\"\"}}}],\"scatterpolargl\":[{\"type\":\"scatterpolargl\",\"marker\":{\"colorbar\":{\"outlinewidth\":0,\"ticks\":\"\"}}}],\"bar\":[{\"error_x\":{\"color\":\"#2a3f5f\"},\"error_y\":{\"color\":\"#2a3f5f\"},\"marker\":{\"line\":{\"color\":\"#E5ECF6\",\"width\":0.5},\"pattern\":{\"fillmode\":\"overlay\",\"size\":10,\"solidity\":0.2}},\"type\":\"bar\"}],\"scattergeo\":[{\"type\":\"scattergeo\",\"marker\":{\"colorbar\":{\"outlinewidth\":0,\"ticks\":\"\"}}}],\"scatterpolar\":[{\"type\":\"scatterpolar\",\"marker\":{\"colorbar\":{\"outlinewidth\":0,\"ticks\":\"\"}}}],\"histogram\":[{\"marker\":{\"pattern\":{\"fillmode\":\"overlay\",\"size\":10,\"solidity\":0.2}},\"type\":\"histogram\"}],\"scattergl\":[{\"type\":\"scattergl\",\"marker\":{\"colorbar\":{\"outlinewidth\":0,\"ticks\":\"\"}}}],\"scatter3d\":[{\"type\":\"scatter3d\",\"line\":{\"colorbar\":{\"outlinewidth\":0,\"ticks\":\"\"}},\"marker\":{\"colorbar\":{\"outlinewidth\":0,\"ticks\":\"\"}}}],\"scattermapbox\":[{\"type\":\"scattermapbox\",\"marker\":{\"colorbar\":{\"outlinewidth\":0,\"ticks\":\"\"}}}],\"scatterternary\":[{\"type\":\"scatterternary\",\"marker\":{\"colorbar\":{\"outlinewidth\":0,\"ticks\":\"\"}}}],\"scattercarpet\":[{\"type\":\"scattercarpet\",\"marker\":{\"colorbar\":{\"outlinewidth\":0,\"ticks\":\"\"}}}],\"carpet\":[{\"aaxis\":{\"endlinecolor\":\"#2a3f5f\",\"gridcolor\":\"white\",\"linecolor\":\"white\",\"minorgridcolor\":\"white\",\"startlinecolor\":\"#2a3f5f\"},\"baxis\":{\"endlinecolor\":\"#2a3f5f\",\"gridcolor\":\"white\",\"linecolor\":\"white\",\"minorgridcolor\":\"white\",\"startlinecolor\":\"#2a3f5f\"},\"type\":\"carpet\"}],\"table\":[{\"cells\":{\"fill\":{\"color\":\"#EBF0F8\"},\"line\":{\"color\":\"white\"}},\"header\":{\"fill\":{\"color\":\"#C8D4E3\"},\"line\":{\"color\":\"white\"}},\"type\":\"table\"}],\"barpolar\":[{\"marker\":{\"line\":{\"color\":\"#E5ECF6\",\"width\":0.5},\"pattern\":{\"fillmode\":\"overlay\",\"size\":10,\"solidity\":0.2}},\"type\":\"barpolar\"}],\"pie\":[{\"automargin\":true,\"type\":\"pie\"}]},\"layout\":{\"autotypenumbers\":\"strict\",\"colorway\":[\"#636efa\",\"#EF553B\",\"#00cc96\",\"#ab63fa\",\"#FFA15A\",\"#19d3f3\",\"#FF6692\",\"#B6E880\",\"#FF97FF\",\"#FECB52\"],\"font\":{\"color\":\"#2a3f5f\"},\"hovermode\":\"closest\",\"hoverlabel\":{\"align\":\"left\"},\"paper_bgcolor\":\"white\",\"plot_bgcolor\":\"#E5ECF6\",\"polar\":{\"bgcolor\":\"#E5ECF6\",\"angularaxis\":{\"gridcolor\":\"white\",\"linecolor\":\"white\",\"ticks\":\"\"},\"radialaxis\":{\"gridcolor\":\"white\",\"linecolor\":\"white\",\"ticks\":\"\"}},\"ternary\":{\"bgcolor\":\"#E5ECF6\",\"aaxis\":{\"gridcolor\":\"white\",\"linecolor\":\"white\",\"ticks\":\"\"},\"baxis\":{\"gridcolor\":\"white\",\"linecolor\":\"white\",\"ticks\":\"\"},\"caxis\":{\"gridcolor\":\"white\",\"linecolor\":\"white\",\"ticks\":\"\"}},\"coloraxis\":{\"colorbar\":{\"outlinewidth\":0,\"ticks\":\"\"}},\"colorscale\":{\"sequential\":[[0.0,\"#0d0887\"],[0.1111111111111111,\"#46039f\"],[0.2222222222222222,\"#7201a8\"],[0.3333333333333333,\"#9c179e\"],[0.4444444444444444,\"#bd3786\"],[0.5555555555555556,\"#d8576b\"],[0.6666666666666666,\"#ed7953\"],[0.7777777777777778,\"#fb9f3a\"],[0.8888888888888888,\"#fdca26\"],[1.0,\"#f0f921\"]],\"sequentialminus\":[[0.0,\"#0d0887\"],[0.1111111111111111,\"#46039f\"],[0.2222222222222222,\"#7201a8\"],[0.3333333333333333,\"#9c179e\"],[0.4444444444444444,\"#bd3786\"],[0.5555555555555556,\"#d8576b\"],[0.6666666666666666,\"#ed7953\"],[0.7777777777777778,\"#fb9f3a\"],[0.8888888888888888,\"#fdca26\"],[1.0,\"#f0f921\"]],\"diverging\":[[0,\"#8e0152\"],[0.1,\"#c51b7d\"],[0.2,\"#de77ae\"],[0.3,\"#f1b6da\"],[0.4,\"#fde0ef\"],[0.5,\"#f7f7f7\"],[0.6,\"#e6f5d0\"],[0.7,\"#b8e186\"],[0.8,\"#7fbc41\"],[0.9,\"#4d9221\"],[1,\"#276419\"]]},\"xaxis\":{\"gridcolor\":\"white\",\"linecolor\":\"white\",\"ticks\":\"\",\"title\":{\"standoff\":15},\"zerolinecolor\":\"white\",\"automargin\":true,\"zerolinewidth\":2},\"yaxis\":{\"gridcolor\":\"white\",\"linecolor\":\"white\",\"ticks\":\"\",\"title\":{\"standoff\":15},\"zerolinecolor\":\"white\",\"automargin\":true,\"zerolinewidth\":2},\"scene\":{\"xaxis\":{\"backgroundcolor\":\"#E5ECF6\",\"gridcolor\":\"white\",\"linecolor\":\"white\",\"showbackground\":true,\"ticks\":\"\",\"zerolinecolor\":\"white\",\"gridwidth\":2},\"yaxis\":{\"backgroundcolor\":\"#E5ECF6\",\"gridcolor\":\"white\",\"linecolor\":\"white\",\"showbackground\":true,\"ticks\":\"\",\"zerolinecolor\":\"white\",\"gridwidth\":2},\"zaxis\":{\"backgroundcolor\":\"#E5ECF6\",\"gridcolor\":\"white\",\"linecolor\":\"white\",\"showbackground\":true,\"ticks\":\"\",\"zerolinecolor\":\"white\",\"gridwidth\":2}},\"shapedefaults\":{\"line\":{\"color\":\"#2a3f5f\"}},\"annotationdefaults\":{\"arrowcolor\":\"#2a3f5f\",\"arrowhead\":0,\"arrowwidth\":1},\"geo\":{\"bgcolor\":\"white\",\"landcolor\":\"#E5ECF6\",\"subunitcolor\":\"white\",\"showland\":true,\"showlakes\":true,\"lakecolor\":\"white\"},\"title\":{\"x\":0.05},\"mapbox\":{\"style\":\"light\"}}}},                        {\"responsive\": true}                    ).then(function(){\n",
       "                            \n",
       "var gd = document.getElementById('90f34396-0885-4f41-87fb-c9d4e7fa4028');\n",
       "var x = new MutationObserver(function (mutations, observer) {{\n",
       "        var display = window.getComputedStyle(gd).display;\n",
       "        if (!display || display === 'none') {{\n",
       "            console.log([gd, 'removed!']);\n",
       "            Plotly.purge(gd);\n",
       "            observer.disconnect();\n",
       "        }}\n",
       "}});\n",
       "\n",
       "// Listen for the removal of the full notebook cells\n",
       "var notebookContainer = gd.closest('#notebook-container');\n",
       "if (notebookContainer) {{\n",
       "    x.observe(notebookContainer, {childList: true});\n",
       "}}\n",
       "\n",
       "// Listen for the clearing of the current output cell\n",
       "var outputEl = gd.closest('.output');\n",
       "if (outputEl) {{\n",
       "    x.observe(outputEl, {childList: true});\n",
       "}}\n",
       "\n",
       "                        })                };                });            </script>        </div>"
      ]
     },
     "metadata": {},
     "output_type": "display_data"
    }
   ],
   "source": [
    "import plotly.graph_objects as go\n",
    "df['Unnamed: 0']= pd.to_datetime(df['Unnamed: 0'])\n",
    "\n",
    "fig = go.Figure(data=[go.Candlestick(x=df['Unnamed: 0'],\n",
    "                open=stock['open'],\n",
    "                high=stock['high'],\n",
    "                low=stock['low'],\n",
    "                close=stock['close'])])\n",
    "\n",
    "fig.show()"
   ]
  },
  {
   "cell_type": "markdown",
   "metadata": {},
   "source": [
    "## Plotting using candlestick more marker pointing the place of inverted hammer"
   ]
  },
  {
   "cell_type": "code",
   "execution_count": 37,
   "metadata": {},
   "outputs": [
    {
     "data": {
      "application/vnd.plotly.v1+json": {
       "config": {
        "plotlyServerURL": "https://plot.ly"
       },
       "data": [
        {
         "close": [
          7.93671178817749,
          8.36306381225586,
          8.672989845275879,
          9.519135475158691,
          9.814302444458008,
          9.756909370422363,
          8.989474296569824,
          9.814302444458008,
          8.305670738220215,
          8.536885261535645,
          8.887805938720703,
          7.938352108001709,
          9.674918174743652,
          10.721120834350586,
          10.281649589538574,
          10.04715633392334,
          9.53553295135498,
          9.240365982055664,
          10.04715633392334,
          10.973652839660645,
          11.134354591369627,
          12.3314208984375,
          12.815167427062988,
          13.077536582946776,
          13.070978164672852,
          12.357658386230469,
          12.436368942260742,
          12.560995101928713,
          12.216633796691896,
          10.47842788696289,
          9.904492378234863,
          9.410906791687012,
          10.417755126953123,
          11.068761825561523,
          10.24885368347168,
          10.002881050109863,
          9.089503288269045,
          9.461742401123049,
          10.530901908874512,
          10.757197380065918,
          11.15895175933838,
          11.609901428222656,
          11.232744216918944,
          12.593791007995604,
          11.655816078186035,
          12.167439460754396,
          12.53639793395996,
          12.539677619934082,
          11.560707092285156,
          13.789217948913574,
          14.886255264282228,
          17.226274490356445,
          17.554237365722656,
          18.52992820739746,
          17.8559627532959,
          16.155473709106445,
          15.086313247680664,
          15.168304443359377,
          14.348395347595217
         ],
         "high": [
          9.492897987365724,
          8.736943244934082,
          9.05998706817627,
          9.66015911102295,
          9.819222450256348,
          10.24393367767334,
          10.114389419555664,
          9.888093948364258,
          10.822789192199709,
          9.369912147521973,
          8.96159839630127,
          9.074745178222656,
          9.966805458068848,
          10.81295108795166,
          11.05564308166504,
          10.575177192687988,
          10.565338134765623,
          9.976643562316896,
          10.222617149353027,
          11.255701065063477,
          12.237951278686523,
          12.815167427062988,
          13.061139106750488,
          13.334988594055176,
          13.32351016998291,
          13.14640998840332,
          12.544596672058104,
          12.575753211975098,
          13.438297271728516,
          12.397012710571287,
          10.722761154174805,
          10.88182258605957,
          11.701730728149414,
          11.527911186218262,
          11.226183891296388,
          10.488266944885254,
          10.132427215576172,
          9.743789672851562,
          10.62601089477539,
          10.950695037841797,
          11.44591999053955,
          12.082168579101562,
          12.17727756500244,
          12.626587867736816,
          12.667583465576172,
          12.442928314208984,
          12.703659057617188,
          12.626587867736816,
          12.560995101928713,
          13.897445678710938,
          14.94528865814209,
          17.275468826293945,
          19.102224349975582,
          19.05630874633789,
          19.413789749145508,
          17.783811569213867,
          17.044254302978516,
          17.045894622802734,
          16.6031436920166
         ],
         "low": [
          7.756331920623779,
          7.756331920623779,
          8.14004898071289,
          8.625434875488281,
          8.896004676818848,
          9.100981712341309,
          8.650032043457031,
          7.192234992980957,
          7.8088059425354,
          7.83832311630249,
          7.985907077789307,
          7.280785083770752,
          7.938352108001709,
          9.51093578338623,
          10.042237281799316,
          9.373191833496094,
          9.068185806274414,
          8.759900093078613,
          8.609037399291992,
          9.63392162322998,
          10.742438316345217,
          11.0638427734375,
          12.077248573303224,
          12.647905349731444,
          12.560995101928713,
          11.937865257263184,
          11.557427406311035,
          11.531189918518066,
          12.085448265075684,
          10.34396266937256,
          9.760188102722168,
          9.150176048278809,
          9.48633861541748,
          10.219337463378906,
          9.927450180053713,
          9.714273452758787,
          8.940279960632324,
          8.668069839477539,
          9.322357177734377,
          10.086511611938477,
          10.70144271850586,
          10.871983528137209,
          11.172069549560549,
          11.093358993530272,
          10.927738189697266,
          10.722761154174805,
          11.537750244140623,
          11.4705171585083,
          11.46395778656006,
          11.473796844482422,
          13.190685272216797,
          14.799345016479492,
          16.890111923217773,
          17.201675415039062,
          16.97210121154785,
          15.135506629943848,
          14.725552558898926,
          14.733752250671388,
          14.28280258178711
         ],
         "open": [
          9.26496410369873,
          8.03346061706543,
          8.364704132080078,
          8.672989845275879,
          9.51257610321045,
          9.715912818908691,
          9.776585578918455,
          9.202651023864746,
          10.15046501159668,
          8.19908332824707,
          8.19908332824707,
          8.923881530761719,
          7.938352108001709,
          9.756909370422363,
          10.737519264221191,
          10.365281105041504,
          10.04715633392334,
          9.48141860961914,
          9.192811965942385,
          10.05207633972168,
          11.02940559387207,
          11.065482139587402,
          12.316661834716797,
          12.926673889160156,
          13.077536582946776,
          13.133291244506836,
          12.242871284484863,
          12.218273162841797,
          12.560995101928713,
          12.239590644836426,
          10.658807754516602,
          9.953686714172363,
          9.48633861541748,
          10.493185997009276,
          11.113037109375,
          10.1045503616333,
          10.002881050109863,
          9.089503288269045,
          9.461742401123049,
          10.50302505493164,
          10.757197380065918,
          11.08843994140625,
          11.678773880004885,
          11.232744216918944,
          12.667583465576172,
          11.452479362487791,
          12.082168579101562,
          12.134642601013184,
          12.539677619934082,
          11.645977020263672,
          13.743303298950195,
          14.989563941955566,
          17.226274490356445,
          17.554237365722656,
          18.661113739013672,
          17.687061309814453,
          15.699604034423828,
          15.151905059814451,
          15.168304443359377
         ],
         "type": "candlestick",
         "x": [
          "2011-01-01T00:00:00",
          "2011-02-01T00:00:00",
          "2011-03-01T00:00:00",
          "2011-04-01T00:00:00",
          "2011-05-01T00:00:00",
          "2011-06-01T00:00:00",
          "2011-07-01T00:00:00",
          "2011-08-01T00:00:00",
          "2011-09-01T00:00:00",
          "2011-10-01T00:00:00",
          "2011-11-01T00:00:00",
          "2011-12-01T00:00:00",
          "2012-01-01T00:00:00",
          "2012-02-01T00:00:00",
          "2012-03-01T00:00:00",
          "2012-04-01T00:00:00",
          "2012-05-01T00:00:00",
          "2012-06-01T00:00:00",
          "2012-07-01T00:00:00",
          "2012-08-01T00:00:00",
          "2012-09-01T00:00:00",
          "2012-10-01T00:00:00",
          "2012-11-01T00:00:00",
          "2012-12-01T00:00:00",
          "2013-01-01T00:00:00",
          "2013-02-01T00:00:00",
          "2013-03-01T00:00:00",
          "2013-04-01T00:00:00",
          "2013-05-01T00:00:00",
          "2013-06-01T00:00:00",
          "2013-07-01T00:00:00",
          "2013-08-01T00:00:00",
          "2013-09-01T00:00:00",
          "2013-10-01T00:00:00",
          "2013-11-01T00:00:00",
          "2013-12-01T00:00:00",
          "2014-01-01T00:00:00",
          "2014-02-01T00:00:00",
          "2014-03-01T00:00:00",
          "2014-04-01T00:00:00",
          "2014-05-01T00:00:00",
          "2014-06-01T00:00:00",
          "2014-07-01T00:00:00",
          "2014-08-01T00:00:00",
          "2014-09-01T00:00:00",
          "2014-10-01T00:00:00",
          "2014-11-01T00:00:00",
          "2014-12-01T00:00:00",
          "2015-01-01T00:00:00",
          "2015-02-01T00:00:00",
          "2015-03-01T00:00:00",
          "2015-04-01T00:00:00",
          "2015-05-01T00:00:00",
          "2015-06-01T00:00:00",
          "2015-07-01T00:00:00",
          "2015-08-01T00:00:00",
          "2015-09-01T00:00:00",
          "2015-10-01T00:00:00",
          "2015-11-01T00:00:00"
         ]
        },
        {
         "marker": {
          "color": "rgba(0, 0, 255, .9)",
          "symbol": "6"
         },
         "mode": "markers",
         "name": "Inverted Hammer",
         "type": "scatter",
         "x": [
          "2011-01-01T00:00:00",
          "2011-02-01T00:00:00",
          "2011-03-01T00:00:00",
          "2011-04-01T00:00:00",
          "2011-05-01T00:00:00",
          "2011-06-01T00:00:00",
          "2011-07-01T00:00:00",
          "2011-08-01T00:00:00",
          "2011-09-01T00:00:00",
          "2011-10-01T00:00:00",
          "2011-11-01T00:00:00",
          "2011-12-01T00:00:00",
          "2012-01-01T00:00:00",
          "2012-02-01T00:00:00",
          "2012-03-01T00:00:00",
          "2012-04-01T00:00:00",
          "2012-05-01T00:00:00",
          "2012-06-01T00:00:00",
          "2012-07-01T00:00:00",
          "2012-08-01T00:00:00",
          "2012-09-01T00:00:00",
          "2012-10-01T00:00:00",
          "2012-11-01T00:00:00",
          "2012-12-01T00:00:00",
          "2013-01-01T00:00:00",
          "2013-02-01T00:00:00",
          "2013-03-01T00:00:00",
          "2013-04-01T00:00:00",
          "2013-05-01T00:00:00",
          "2013-06-01T00:00:00",
          "2013-07-01T00:00:00",
          "2013-08-01T00:00:00",
          "2013-09-01T00:00:00",
          "2013-10-01T00:00:00",
          "2013-11-01T00:00:00",
          "2013-12-01T00:00:00",
          "2014-01-01T00:00:00",
          "2014-02-01T00:00:00",
          "2014-03-01T00:00:00",
          "2014-04-01T00:00:00",
          "2014-05-01T00:00:00",
          "2014-06-01T00:00:00",
          "2014-07-01T00:00:00",
          "2014-08-01T00:00:00",
          "2014-09-01T00:00:00",
          "2014-10-01T00:00:00",
          "2014-11-01T00:00:00",
          "2014-12-01T00:00:00",
          "2015-01-01T00:00:00",
          "2015-02-01T00:00:00",
          "2015-03-01T00:00:00",
          "2015-04-01T00:00:00",
          "2015-05-01T00:00:00",
          "2015-06-01T00:00:00",
          "2015-07-01T00:00:00",
          "2015-08-01T00:00:00",
          "2015-09-01T00:00:00",
          "2015-10-01T00:00:00",
          "2015-11-01T00:00:00"
         ],
         "y": [
          null,
          null,
          null,
          null,
          null,
          null,
          null,
          null,
          null,
          null,
          null,
          null,
          null,
          null,
          null,
          null,
          null,
          null,
          null,
          null,
          11.134354591369627,
          null,
          null,
          null,
          null,
          null,
          null,
          null,
          12.216633796691896,
          null,
          null,
          null,
          null,
          null,
          null,
          null,
          null,
          null,
          null,
          null,
          null,
          null,
          null,
          null,
          null,
          null,
          null,
          null,
          null,
          null,
          null,
          null,
          17.554237365722656,
          null,
          null,
          null,
          null,
          15.168304443359377,
          null
         ]
        }
       ],
       "layout": {
        "template": {
         "data": {
          "bar": [
           {
            "error_x": {
             "color": "#2a3f5f"
            },
            "error_y": {
             "color": "#2a3f5f"
            },
            "marker": {
             "line": {
              "color": "#E5ECF6",
              "width": 0.5
             },
             "pattern": {
              "fillmode": "overlay",
              "size": 10,
              "solidity": 0.2
             }
            },
            "type": "bar"
           }
          ],
          "barpolar": [
           {
            "marker": {
             "line": {
              "color": "#E5ECF6",
              "width": 0.5
             },
             "pattern": {
              "fillmode": "overlay",
              "size": 10,
              "solidity": 0.2
             }
            },
            "type": "barpolar"
           }
          ],
          "carpet": [
           {
            "aaxis": {
             "endlinecolor": "#2a3f5f",
             "gridcolor": "white",
             "linecolor": "white",
             "minorgridcolor": "white",
             "startlinecolor": "#2a3f5f"
            },
            "baxis": {
             "endlinecolor": "#2a3f5f",
             "gridcolor": "white",
             "linecolor": "white",
             "minorgridcolor": "white",
             "startlinecolor": "#2a3f5f"
            },
            "type": "carpet"
           }
          ],
          "choropleth": [
           {
            "colorbar": {
             "outlinewidth": 0,
             "ticks": ""
            },
            "type": "choropleth"
           }
          ],
          "contour": [
           {
            "colorbar": {
             "outlinewidth": 0,
             "ticks": ""
            },
            "colorscale": [
             [
              0,
              "#0d0887"
             ],
             [
              0.1111111111111111,
              "#46039f"
             ],
             [
              0.2222222222222222,
              "#7201a8"
             ],
             [
              0.3333333333333333,
              "#9c179e"
             ],
             [
              0.4444444444444444,
              "#bd3786"
             ],
             [
              0.5555555555555556,
              "#d8576b"
             ],
             [
              0.6666666666666666,
              "#ed7953"
             ],
             [
              0.7777777777777778,
              "#fb9f3a"
             ],
             [
              0.8888888888888888,
              "#fdca26"
             ],
             [
              1,
              "#f0f921"
             ]
            ],
            "type": "contour"
           }
          ],
          "contourcarpet": [
           {
            "colorbar": {
             "outlinewidth": 0,
             "ticks": ""
            },
            "type": "contourcarpet"
           }
          ],
          "heatmap": [
           {
            "colorbar": {
             "outlinewidth": 0,
             "ticks": ""
            },
            "colorscale": [
             [
              0,
              "#0d0887"
             ],
             [
              0.1111111111111111,
              "#46039f"
             ],
             [
              0.2222222222222222,
              "#7201a8"
             ],
             [
              0.3333333333333333,
              "#9c179e"
             ],
             [
              0.4444444444444444,
              "#bd3786"
             ],
             [
              0.5555555555555556,
              "#d8576b"
             ],
             [
              0.6666666666666666,
              "#ed7953"
             ],
             [
              0.7777777777777778,
              "#fb9f3a"
             ],
             [
              0.8888888888888888,
              "#fdca26"
             ],
             [
              1,
              "#f0f921"
             ]
            ],
            "type": "heatmap"
           }
          ],
          "heatmapgl": [
           {
            "colorbar": {
             "outlinewidth": 0,
             "ticks": ""
            },
            "colorscale": [
             [
              0,
              "#0d0887"
             ],
             [
              0.1111111111111111,
              "#46039f"
             ],
             [
              0.2222222222222222,
              "#7201a8"
             ],
             [
              0.3333333333333333,
              "#9c179e"
             ],
             [
              0.4444444444444444,
              "#bd3786"
             ],
             [
              0.5555555555555556,
              "#d8576b"
             ],
             [
              0.6666666666666666,
              "#ed7953"
             ],
             [
              0.7777777777777778,
              "#fb9f3a"
             ],
             [
              0.8888888888888888,
              "#fdca26"
             ],
             [
              1,
              "#f0f921"
             ]
            ],
            "type": "heatmapgl"
           }
          ],
          "histogram": [
           {
            "marker": {
             "pattern": {
              "fillmode": "overlay",
              "size": 10,
              "solidity": 0.2
             }
            },
            "type": "histogram"
           }
          ],
          "histogram2d": [
           {
            "colorbar": {
             "outlinewidth": 0,
             "ticks": ""
            },
            "colorscale": [
             [
              0,
              "#0d0887"
             ],
             [
              0.1111111111111111,
              "#46039f"
             ],
             [
              0.2222222222222222,
              "#7201a8"
             ],
             [
              0.3333333333333333,
              "#9c179e"
             ],
             [
              0.4444444444444444,
              "#bd3786"
             ],
             [
              0.5555555555555556,
              "#d8576b"
             ],
             [
              0.6666666666666666,
              "#ed7953"
             ],
             [
              0.7777777777777778,
              "#fb9f3a"
             ],
             [
              0.8888888888888888,
              "#fdca26"
             ],
             [
              1,
              "#f0f921"
             ]
            ],
            "type": "histogram2d"
           }
          ],
          "histogram2dcontour": [
           {
            "colorbar": {
             "outlinewidth": 0,
             "ticks": ""
            },
            "colorscale": [
             [
              0,
              "#0d0887"
             ],
             [
              0.1111111111111111,
              "#46039f"
             ],
             [
              0.2222222222222222,
              "#7201a8"
             ],
             [
              0.3333333333333333,
              "#9c179e"
             ],
             [
              0.4444444444444444,
              "#bd3786"
             ],
             [
              0.5555555555555556,
              "#d8576b"
             ],
             [
              0.6666666666666666,
              "#ed7953"
             ],
             [
              0.7777777777777778,
              "#fb9f3a"
             ],
             [
              0.8888888888888888,
              "#fdca26"
             ],
             [
              1,
              "#f0f921"
             ]
            ],
            "type": "histogram2dcontour"
           }
          ],
          "mesh3d": [
           {
            "colorbar": {
             "outlinewidth": 0,
             "ticks": ""
            },
            "type": "mesh3d"
           }
          ],
          "parcoords": [
           {
            "line": {
             "colorbar": {
              "outlinewidth": 0,
              "ticks": ""
             }
            },
            "type": "parcoords"
           }
          ],
          "pie": [
           {
            "automargin": true,
            "type": "pie"
           }
          ],
          "scatter": [
           {
            "fillpattern": {
             "fillmode": "overlay",
             "size": 10,
             "solidity": 0.2
            },
            "type": "scatter"
           }
          ],
          "scatter3d": [
           {
            "line": {
             "colorbar": {
              "outlinewidth": 0,
              "ticks": ""
             }
            },
            "marker": {
             "colorbar": {
              "outlinewidth": 0,
              "ticks": ""
             }
            },
            "type": "scatter3d"
           }
          ],
          "scattercarpet": [
           {
            "marker": {
             "colorbar": {
              "outlinewidth": 0,
              "ticks": ""
             }
            },
            "type": "scattercarpet"
           }
          ],
          "scattergeo": [
           {
            "marker": {
             "colorbar": {
              "outlinewidth": 0,
              "ticks": ""
             }
            },
            "type": "scattergeo"
           }
          ],
          "scattergl": [
           {
            "marker": {
             "colorbar": {
              "outlinewidth": 0,
              "ticks": ""
             }
            },
            "type": "scattergl"
           }
          ],
          "scattermapbox": [
           {
            "marker": {
             "colorbar": {
              "outlinewidth": 0,
              "ticks": ""
             }
            },
            "type": "scattermapbox"
           }
          ],
          "scatterpolar": [
           {
            "marker": {
             "colorbar": {
              "outlinewidth": 0,
              "ticks": ""
             }
            },
            "type": "scatterpolar"
           }
          ],
          "scatterpolargl": [
           {
            "marker": {
             "colorbar": {
              "outlinewidth": 0,
              "ticks": ""
             }
            },
            "type": "scatterpolargl"
           }
          ],
          "scatterternary": [
           {
            "marker": {
             "colorbar": {
              "outlinewidth": 0,
              "ticks": ""
             }
            },
            "type": "scatterternary"
           }
          ],
          "surface": [
           {
            "colorbar": {
             "outlinewidth": 0,
             "ticks": ""
            },
            "colorscale": [
             [
              0,
              "#0d0887"
             ],
             [
              0.1111111111111111,
              "#46039f"
             ],
             [
              0.2222222222222222,
              "#7201a8"
             ],
             [
              0.3333333333333333,
              "#9c179e"
             ],
             [
              0.4444444444444444,
              "#bd3786"
             ],
             [
              0.5555555555555556,
              "#d8576b"
             ],
             [
              0.6666666666666666,
              "#ed7953"
             ],
             [
              0.7777777777777778,
              "#fb9f3a"
             ],
             [
              0.8888888888888888,
              "#fdca26"
             ],
             [
              1,
              "#f0f921"
             ]
            ],
            "type": "surface"
           }
          ],
          "table": [
           {
            "cells": {
             "fill": {
              "color": "#EBF0F8"
             },
             "line": {
              "color": "white"
             }
            },
            "header": {
             "fill": {
              "color": "#C8D4E3"
             },
             "line": {
              "color": "white"
             }
            },
            "type": "table"
           }
          ]
         },
         "layout": {
          "annotationdefaults": {
           "arrowcolor": "#2a3f5f",
           "arrowhead": 0,
           "arrowwidth": 1
          },
          "autotypenumbers": "strict",
          "coloraxis": {
           "colorbar": {
            "outlinewidth": 0,
            "ticks": ""
           }
          },
          "colorscale": {
           "diverging": [
            [
             0,
             "#8e0152"
            ],
            [
             0.1,
             "#c51b7d"
            ],
            [
             0.2,
             "#de77ae"
            ],
            [
             0.3,
             "#f1b6da"
            ],
            [
             0.4,
             "#fde0ef"
            ],
            [
             0.5,
             "#f7f7f7"
            ],
            [
             0.6,
             "#e6f5d0"
            ],
            [
             0.7,
             "#b8e186"
            ],
            [
             0.8,
             "#7fbc41"
            ],
            [
             0.9,
             "#4d9221"
            ],
            [
             1,
             "#276419"
            ]
           ],
           "sequential": [
            [
             0,
             "#0d0887"
            ],
            [
             0.1111111111111111,
             "#46039f"
            ],
            [
             0.2222222222222222,
             "#7201a8"
            ],
            [
             0.3333333333333333,
             "#9c179e"
            ],
            [
             0.4444444444444444,
             "#bd3786"
            ],
            [
             0.5555555555555556,
             "#d8576b"
            ],
            [
             0.6666666666666666,
             "#ed7953"
            ],
            [
             0.7777777777777778,
             "#fb9f3a"
            ],
            [
             0.8888888888888888,
             "#fdca26"
            ],
            [
             1,
             "#f0f921"
            ]
           ],
           "sequentialminus": [
            [
             0,
             "#0d0887"
            ],
            [
             0.1111111111111111,
             "#46039f"
            ],
            [
             0.2222222222222222,
             "#7201a8"
            ],
            [
             0.3333333333333333,
             "#9c179e"
            ],
            [
             0.4444444444444444,
             "#bd3786"
            ],
            [
             0.5555555555555556,
             "#d8576b"
            ],
            [
             0.6666666666666666,
             "#ed7953"
            ],
            [
             0.7777777777777778,
             "#fb9f3a"
            ],
            [
             0.8888888888888888,
             "#fdca26"
            ],
            [
             1,
             "#f0f921"
            ]
           ]
          },
          "colorway": [
           "#636efa",
           "#EF553B",
           "#00cc96",
           "#ab63fa",
           "#FFA15A",
           "#19d3f3",
           "#FF6692",
           "#B6E880",
           "#FF97FF",
           "#FECB52"
          ],
          "font": {
           "color": "#2a3f5f"
          },
          "geo": {
           "bgcolor": "white",
           "lakecolor": "white",
           "landcolor": "#E5ECF6",
           "showlakes": true,
           "showland": true,
           "subunitcolor": "white"
          },
          "hoverlabel": {
           "align": "left"
          },
          "hovermode": "closest",
          "mapbox": {
           "style": "light"
          },
          "paper_bgcolor": "white",
          "plot_bgcolor": "#E5ECF6",
          "polar": {
           "angularaxis": {
            "gridcolor": "white",
            "linecolor": "white",
            "ticks": ""
           },
           "bgcolor": "#E5ECF6",
           "radialaxis": {
            "gridcolor": "white",
            "linecolor": "white",
            "ticks": ""
           }
          },
          "scene": {
           "xaxis": {
            "backgroundcolor": "#E5ECF6",
            "gridcolor": "white",
            "gridwidth": 2,
            "linecolor": "white",
            "showbackground": true,
            "ticks": "",
            "zerolinecolor": "white"
           },
           "yaxis": {
            "backgroundcolor": "#E5ECF6",
            "gridcolor": "white",
            "gridwidth": 2,
            "linecolor": "white",
            "showbackground": true,
            "ticks": "",
            "zerolinecolor": "white"
           },
           "zaxis": {
            "backgroundcolor": "#E5ECF6",
            "gridcolor": "white",
            "gridwidth": 2,
            "linecolor": "white",
            "showbackground": true,
            "ticks": "",
            "zerolinecolor": "white"
           }
          },
          "shapedefaults": {
           "line": {
            "color": "#2a3f5f"
           }
          },
          "ternary": {
           "aaxis": {
            "gridcolor": "white",
            "linecolor": "white",
            "ticks": ""
           },
           "baxis": {
            "gridcolor": "white",
            "linecolor": "white",
            "ticks": ""
           },
           "bgcolor": "#E5ECF6",
           "caxis": {
            "gridcolor": "white",
            "linecolor": "white",
            "ticks": ""
           }
          },
          "title": {
           "x": 0.05
          },
          "xaxis": {
           "automargin": true,
           "gridcolor": "white",
           "linecolor": "white",
           "ticks": "",
           "title": {
            "standoff": 15
           },
           "zerolinecolor": "white",
           "zerolinewidth": 2
          },
          "yaxis": {
           "automargin": true,
           "gridcolor": "white",
           "linecolor": "white",
           "ticks": "",
           "title": {
            "standoff": 15
           },
           "zerolinecolor": "white",
           "zerolinewidth": 2
          }
         }
        }
       }
      },
      "text/html": [
       "<div>                            <div id=\"b42214d3-7a09-4c55-80b7-05205e57abb7\" class=\"plotly-graph-div\" style=\"height:525px; width:100%;\"></div>            <script type=\"text/javascript\">                require([\"plotly\"], function(Plotly) {                    window.PLOTLYENV=window.PLOTLYENV || {};                                    if (document.getElementById(\"b42214d3-7a09-4c55-80b7-05205e57abb7\")) {                    Plotly.newPlot(                        \"b42214d3-7a09-4c55-80b7-05205e57abb7\",                        [{\"close\":[7.93671178817749,8.36306381225586,8.672989845275879,9.519135475158691,9.814302444458008,9.756909370422363,8.989474296569824,9.814302444458008,8.305670738220215,8.536885261535645,8.887805938720703,7.938352108001709,9.674918174743652,10.721120834350586,10.281649589538574,10.04715633392334,9.53553295135498,9.240365982055664,10.04715633392334,10.973652839660645,11.134354591369627,12.3314208984375,12.815167427062988,13.077536582946776,13.070978164672852,12.357658386230469,12.436368942260742,12.560995101928713,12.216633796691896,10.47842788696289,9.904492378234863,9.410906791687012,10.417755126953123,11.068761825561523,10.24885368347168,10.002881050109863,9.089503288269045,9.461742401123049,10.530901908874512,10.757197380065918,11.15895175933838,11.609901428222656,11.232744216918944,12.593791007995604,11.655816078186035,12.167439460754396,12.53639793395996,12.539677619934082,11.560707092285156,13.789217948913574,14.886255264282228,17.226274490356445,17.554237365722656,18.52992820739746,17.8559627532959,16.155473709106445,15.086313247680664,15.168304443359377,14.348395347595217],\"high\":[9.492897987365724,8.736943244934082,9.05998706817627,9.66015911102295,9.819222450256348,10.24393367767334,10.114389419555664,9.888093948364258,10.822789192199709,9.369912147521973,8.96159839630127,9.074745178222656,9.966805458068848,10.81295108795166,11.05564308166504,10.575177192687988,10.565338134765623,9.976643562316896,10.222617149353027,11.255701065063477,12.237951278686523,12.815167427062988,13.061139106750488,13.334988594055176,13.32351016998291,13.14640998840332,12.544596672058104,12.575753211975098,13.438297271728516,12.397012710571287,10.722761154174805,10.88182258605957,11.701730728149414,11.527911186218262,11.226183891296388,10.488266944885254,10.132427215576172,9.743789672851562,10.62601089477539,10.950695037841797,11.44591999053955,12.082168579101562,12.17727756500244,12.626587867736816,12.667583465576172,12.442928314208984,12.703659057617188,12.626587867736816,12.560995101928713,13.897445678710938,14.94528865814209,17.275468826293945,19.102224349975582,19.05630874633789,19.413789749145508,17.783811569213867,17.044254302978516,17.045894622802734,16.6031436920166],\"low\":[7.756331920623779,7.756331920623779,8.14004898071289,8.625434875488281,8.896004676818848,9.100981712341309,8.650032043457031,7.192234992980957,7.8088059425354,7.83832311630249,7.985907077789307,7.280785083770752,7.938352108001709,9.51093578338623,10.042237281799316,9.373191833496094,9.068185806274414,8.759900093078613,8.609037399291992,9.63392162322998,10.742438316345217,11.0638427734375,12.077248573303224,12.647905349731444,12.560995101928713,11.937865257263184,11.557427406311035,11.531189918518066,12.085448265075684,10.34396266937256,9.760188102722168,9.150176048278809,9.48633861541748,10.219337463378906,9.927450180053713,9.714273452758787,8.940279960632324,8.668069839477539,9.322357177734377,10.086511611938477,10.70144271850586,10.871983528137209,11.172069549560549,11.093358993530272,10.927738189697266,10.722761154174805,11.537750244140623,11.4705171585083,11.46395778656006,11.473796844482422,13.190685272216797,14.799345016479492,16.890111923217773,17.201675415039062,16.97210121154785,15.135506629943848,14.725552558898926,14.733752250671388,14.28280258178711],\"open\":[9.26496410369873,8.03346061706543,8.364704132080078,8.672989845275879,9.51257610321045,9.715912818908691,9.776585578918455,9.202651023864746,10.15046501159668,8.19908332824707,8.19908332824707,8.923881530761719,7.938352108001709,9.756909370422363,10.737519264221191,10.365281105041504,10.04715633392334,9.48141860961914,9.192811965942385,10.05207633972168,11.02940559387207,11.065482139587402,12.316661834716797,12.926673889160156,13.077536582946776,13.133291244506836,12.242871284484863,12.218273162841797,12.560995101928713,12.239590644836426,10.658807754516602,9.953686714172363,9.48633861541748,10.493185997009276,11.113037109375,10.1045503616333,10.002881050109863,9.089503288269045,9.461742401123049,10.50302505493164,10.757197380065918,11.08843994140625,11.678773880004885,11.232744216918944,12.667583465576172,11.452479362487791,12.082168579101562,12.134642601013184,12.539677619934082,11.645977020263672,13.743303298950195,14.989563941955566,17.226274490356445,17.554237365722656,18.661113739013672,17.687061309814453,15.699604034423828,15.151905059814451,15.168304443359377],\"x\":[\"2011-01-01T00:00:00\",\"2011-02-01T00:00:00\",\"2011-03-01T00:00:00\",\"2011-04-01T00:00:00\",\"2011-05-01T00:00:00\",\"2011-06-01T00:00:00\",\"2011-07-01T00:00:00\",\"2011-08-01T00:00:00\",\"2011-09-01T00:00:00\",\"2011-10-01T00:00:00\",\"2011-11-01T00:00:00\",\"2011-12-01T00:00:00\",\"2012-01-01T00:00:00\",\"2012-02-01T00:00:00\",\"2012-03-01T00:00:00\",\"2012-04-01T00:00:00\",\"2012-05-01T00:00:00\",\"2012-06-01T00:00:00\",\"2012-07-01T00:00:00\",\"2012-08-01T00:00:00\",\"2012-09-01T00:00:00\",\"2012-10-01T00:00:00\",\"2012-11-01T00:00:00\",\"2012-12-01T00:00:00\",\"2013-01-01T00:00:00\",\"2013-02-01T00:00:00\",\"2013-03-01T00:00:00\",\"2013-04-01T00:00:00\",\"2013-05-01T00:00:00\",\"2013-06-01T00:00:00\",\"2013-07-01T00:00:00\",\"2013-08-01T00:00:00\",\"2013-09-01T00:00:00\",\"2013-10-01T00:00:00\",\"2013-11-01T00:00:00\",\"2013-12-01T00:00:00\",\"2014-01-01T00:00:00\",\"2014-02-01T00:00:00\",\"2014-03-01T00:00:00\",\"2014-04-01T00:00:00\",\"2014-05-01T00:00:00\",\"2014-06-01T00:00:00\",\"2014-07-01T00:00:00\",\"2014-08-01T00:00:00\",\"2014-09-01T00:00:00\",\"2014-10-01T00:00:00\",\"2014-11-01T00:00:00\",\"2014-12-01T00:00:00\",\"2015-01-01T00:00:00\",\"2015-02-01T00:00:00\",\"2015-03-01T00:00:00\",\"2015-04-01T00:00:00\",\"2015-05-01T00:00:00\",\"2015-06-01T00:00:00\",\"2015-07-01T00:00:00\",\"2015-08-01T00:00:00\",\"2015-09-01T00:00:00\",\"2015-10-01T00:00:00\",\"2015-11-01T00:00:00\"],\"type\":\"candlestick\"},{\"marker\":{\"color\":\"rgba(0, 0, 255, .9)\",\"symbol\":\"6\"},\"mode\":\"markers\",\"name\":\"Inverted Hammer\",\"x\":[\"2011-01-01T00:00:00\",\"2011-02-01T00:00:00\",\"2011-03-01T00:00:00\",\"2011-04-01T00:00:00\",\"2011-05-01T00:00:00\",\"2011-06-01T00:00:00\",\"2011-07-01T00:00:00\",\"2011-08-01T00:00:00\",\"2011-09-01T00:00:00\",\"2011-10-01T00:00:00\",\"2011-11-01T00:00:00\",\"2011-12-01T00:00:00\",\"2012-01-01T00:00:00\",\"2012-02-01T00:00:00\",\"2012-03-01T00:00:00\",\"2012-04-01T00:00:00\",\"2012-05-01T00:00:00\",\"2012-06-01T00:00:00\",\"2012-07-01T00:00:00\",\"2012-08-01T00:00:00\",\"2012-09-01T00:00:00\",\"2012-10-01T00:00:00\",\"2012-11-01T00:00:00\",\"2012-12-01T00:00:00\",\"2013-01-01T00:00:00\",\"2013-02-01T00:00:00\",\"2013-03-01T00:00:00\",\"2013-04-01T00:00:00\",\"2013-05-01T00:00:00\",\"2013-06-01T00:00:00\",\"2013-07-01T00:00:00\",\"2013-08-01T00:00:00\",\"2013-09-01T00:00:00\",\"2013-10-01T00:00:00\",\"2013-11-01T00:00:00\",\"2013-12-01T00:00:00\",\"2014-01-01T00:00:00\",\"2014-02-01T00:00:00\",\"2014-03-01T00:00:00\",\"2014-04-01T00:00:00\",\"2014-05-01T00:00:00\",\"2014-06-01T00:00:00\",\"2014-07-01T00:00:00\",\"2014-08-01T00:00:00\",\"2014-09-01T00:00:00\",\"2014-10-01T00:00:00\",\"2014-11-01T00:00:00\",\"2014-12-01T00:00:00\",\"2015-01-01T00:00:00\",\"2015-02-01T00:00:00\",\"2015-03-01T00:00:00\",\"2015-04-01T00:00:00\",\"2015-05-01T00:00:00\",\"2015-06-01T00:00:00\",\"2015-07-01T00:00:00\",\"2015-08-01T00:00:00\",\"2015-09-01T00:00:00\",\"2015-10-01T00:00:00\",\"2015-11-01T00:00:00\"],\"y\":[null,null,null,null,null,null,null,null,null,null,null,null,null,null,null,null,null,null,null,null,11.134354591369627,null,null,null,null,null,null,null,12.216633796691896,null,null,null,null,null,null,null,null,null,null,null,null,null,null,null,null,null,null,null,null,null,null,null,17.554237365722656,null,null,null,null,15.168304443359377,null],\"type\":\"scatter\"}],                        {\"template\":{\"data\":{\"histogram2dcontour\":[{\"type\":\"histogram2dcontour\",\"colorbar\":{\"outlinewidth\":0,\"ticks\":\"\"},\"colorscale\":[[0.0,\"#0d0887\"],[0.1111111111111111,\"#46039f\"],[0.2222222222222222,\"#7201a8\"],[0.3333333333333333,\"#9c179e\"],[0.4444444444444444,\"#bd3786\"],[0.5555555555555556,\"#d8576b\"],[0.6666666666666666,\"#ed7953\"],[0.7777777777777778,\"#fb9f3a\"],[0.8888888888888888,\"#fdca26\"],[1.0,\"#f0f921\"]]}],\"choropleth\":[{\"type\":\"choropleth\",\"colorbar\":{\"outlinewidth\":0,\"ticks\":\"\"}}],\"histogram2d\":[{\"type\":\"histogram2d\",\"colorbar\":{\"outlinewidth\":0,\"ticks\":\"\"},\"colorscale\":[[0.0,\"#0d0887\"],[0.1111111111111111,\"#46039f\"],[0.2222222222222222,\"#7201a8\"],[0.3333333333333333,\"#9c179e\"],[0.4444444444444444,\"#bd3786\"],[0.5555555555555556,\"#d8576b\"],[0.6666666666666666,\"#ed7953\"],[0.7777777777777778,\"#fb9f3a\"],[0.8888888888888888,\"#fdca26\"],[1.0,\"#f0f921\"]]}],\"heatmap\":[{\"type\":\"heatmap\",\"colorbar\":{\"outlinewidth\":0,\"ticks\":\"\"},\"colorscale\":[[0.0,\"#0d0887\"],[0.1111111111111111,\"#46039f\"],[0.2222222222222222,\"#7201a8\"],[0.3333333333333333,\"#9c179e\"],[0.4444444444444444,\"#bd3786\"],[0.5555555555555556,\"#d8576b\"],[0.6666666666666666,\"#ed7953\"],[0.7777777777777778,\"#fb9f3a\"],[0.8888888888888888,\"#fdca26\"],[1.0,\"#f0f921\"]]}],\"heatmapgl\":[{\"type\":\"heatmapgl\",\"colorbar\":{\"outlinewidth\":0,\"ticks\":\"\"},\"colorscale\":[[0.0,\"#0d0887\"],[0.1111111111111111,\"#46039f\"],[0.2222222222222222,\"#7201a8\"],[0.3333333333333333,\"#9c179e\"],[0.4444444444444444,\"#bd3786\"],[0.5555555555555556,\"#d8576b\"],[0.6666666666666666,\"#ed7953\"],[0.7777777777777778,\"#fb9f3a\"],[0.8888888888888888,\"#fdca26\"],[1.0,\"#f0f921\"]]}],\"contourcarpet\":[{\"type\":\"contourcarpet\",\"colorbar\":{\"outlinewidth\":0,\"ticks\":\"\"}}],\"contour\":[{\"type\":\"contour\",\"colorbar\":{\"outlinewidth\":0,\"ticks\":\"\"},\"colorscale\":[[0.0,\"#0d0887\"],[0.1111111111111111,\"#46039f\"],[0.2222222222222222,\"#7201a8\"],[0.3333333333333333,\"#9c179e\"],[0.4444444444444444,\"#bd3786\"],[0.5555555555555556,\"#d8576b\"],[0.6666666666666666,\"#ed7953\"],[0.7777777777777778,\"#fb9f3a\"],[0.8888888888888888,\"#fdca26\"],[1.0,\"#f0f921\"]]}],\"surface\":[{\"type\":\"surface\",\"colorbar\":{\"outlinewidth\":0,\"ticks\":\"\"},\"colorscale\":[[0.0,\"#0d0887\"],[0.1111111111111111,\"#46039f\"],[0.2222222222222222,\"#7201a8\"],[0.3333333333333333,\"#9c179e\"],[0.4444444444444444,\"#bd3786\"],[0.5555555555555556,\"#d8576b\"],[0.6666666666666666,\"#ed7953\"],[0.7777777777777778,\"#fb9f3a\"],[0.8888888888888888,\"#fdca26\"],[1.0,\"#f0f921\"]]}],\"mesh3d\":[{\"type\":\"mesh3d\",\"colorbar\":{\"outlinewidth\":0,\"ticks\":\"\"}}],\"scatter\":[{\"fillpattern\":{\"fillmode\":\"overlay\",\"size\":10,\"solidity\":0.2},\"type\":\"scatter\"}],\"parcoords\":[{\"type\":\"parcoords\",\"line\":{\"colorbar\":{\"outlinewidth\":0,\"ticks\":\"\"}}}],\"scatterpolargl\":[{\"type\":\"scatterpolargl\",\"marker\":{\"colorbar\":{\"outlinewidth\":0,\"ticks\":\"\"}}}],\"bar\":[{\"error_x\":{\"color\":\"#2a3f5f\"},\"error_y\":{\"color\":\"#2a3f5f\"},\"marker\":{\"line\":{\"color\":\"#E5ECF6\",\"width\":0.5},\"pattern\":{\"fillmode\":\"overlay\",\"size\":10,\"solidity\":0.2}},\"type\":\"bar\"}],\"scattergeo\":[{\"type\":\"scattergeo\",\"marker\":{\"colorbar\":{\"outlinewidth\":0,\"ticks\":\"\"}}}],\"scatterpolar\":[{\"type\":\"scatterpolar\",\"marker\":{\"colorbar\":{\"outlinewidth\":0,\"ticks\":\"\"}}}],\"histogram\":[{\"marker\":{\"pattern\":{\"fillmode\":\"overlay\",\"size\":10,\"solidity\":0.2}},\"type\":\"histogram\"}],\"scattergl\":[{\"type\":\"scattergl\",\"marker\":{\"colorbar\":{\"outlinewidth\":0,\"ticks\":\"\"}}}],\"scatter3d\":[{\"type\":\"scatter3d\",\"line\":{\"colorbar\":{\"outlinewidth\":0,\"ticks\":\"\"}},\"marker\":{\"colorbar\":{\"outlinewidth\":0,\"ticks\":\"\"}}}],\"scattermapbox\":[{\"type\":\"scattermapbox\",\"marker\":{\"colorbar\":{\"outlinewidth\":0,\"ticks\":\"\"}}}],\"scatterternary\":[{\"type\":\"scatterternary\",\"marker\":{\"colorbar\":{\"outlinewidth\":0,\"ticks\":\"\"}}}],\"scattercarpet\":[{\"type\":\"scattercarpet\",\"marker\":{\"colorbar\":{\"outlinewidth\":0,\"ticks\":\"\"}}}],\"carpet\":[{\"aaxis\":{\"endlinecolor\":\"#2a3f5f\",\"gridcolor\":\"white\",\"linecolor\":\"white\",\"minorgridcolor\":\"white\",\"startlinecolor\":\"#2a3f5f\"},\"baxis\":{\"endlinecolor\":\"#2a3f5f\",\"gridcolor\":\"white\",\"linecolor\":\"white\",\"minorgridcolor\":\"white\",\"startlinecolor\":\"#2a3f5f\"},\"type\":\"carpet\"}],\"table\":[{\"cells\":{\"fill\":{\"color\":\"#EBF0F8\"},\"line\":{\"color\":\"white\"}},\"header\":{\"fill\":{\"color\":\"#C8D4E3\"},\"line\":{\"color\":\"white\"}},\"type\":\"table\"}],\"barpolar\":[{\"marker\":{\"line\":{\"color\":\"#E5ECF6\",\"width\":0.5},\"pattern\":{\"fillmode\":\"overlay\",\"size\":10,\"solidity\":0.2}},\"type\":\"barpolar\"}],\"pie\":[{\"automargin\":true,\"type\":\"pie\"}]},\"layout\":{\"autotypenumbers\":\"strict\",\"colorway\":[\"#636efa\",\"#EF553B\",\"#00cc96\",\"#ab63fa\",\"#FFA15A\",\"#19d3f3\",\"#FF6692\",\"#B6E880\",\"#FF97FF\",\"#FECB52\"],\"font\":{\"color\":\"#2a3f5f\"},\"hovermode\":\"closest\",\"hoverlabel\":{\"align\":\"left\"},\"paper_bgcolor\":\"white\",\"plot_bgcolor\":\"#E5ECF6\",\"polar\":{\"bgcolor\":\"#E5ECF6\",\"angularaxis\":{\"gridcolor\":\"white\",\"linecolor\":\"white\",\"ticks\":\"\"},\"radialaxis\":{\"gridcolor\":\"white\",\"linecolor\":\"white\",\"ticks\":\"\"}},\"ternary\":{\"bgcolor\":\"#E5ECF6\",\"aaxis\":{\"gridcolor\":\"white\",\"linecolor\":\"white\",\"ticks\":\"\"},\"baxis\":{\"gridcolor\":\"white\",\"linecolor\":\"white\",\"ticks\":\"\"},\"caxis\":{\"gridcolor\":\"white\",\"linecolor\":\"white\",\"ticks\":\"\"}},\"coloraxis\":{\"colorbar\":{\"outlinewidth\":0,\"ticks\":\"\"}},\"colorscale\":{\"sequential\":[[0.0,\"#0d0887\"],[0.1111111111111111,\"#46039f\"],[0.2222222222222222,\"#7201a8\"],[0.3333333333333333,\"#9c179e\"],[0.4444444444444444,\"#bd3786\"],[0.5555555555555556,\"#d8576b\"],[0.6666666666666666,\"#ed7953\"],[0.7777777777777778,\"#fb9f3a\"],[0.8888888888888888,\"#fdca26\"],[1.0,\"#f0f921\"]],\"sequentialminus\":[[0.0,\"#0d0887\"],[0.1111111111111111,\"#46039f\"],[0.2222222222222222,\"#7201a8\"],[0.3333333333333333,\"#9c179e\"],[0.4444444444444444,\"#bd3786\"],[0.5555555555555556,\"#d8576b\"],[0.6666666666666666,\"#ed7953\"],[0.7777777777777778,\"#fb9f3a\"],[0.8888888888888888,\"#fdca26\"],[1.0,\"#f0f921\"]],\"diverging\":[[0,\"#8e0152\"],[0.1,\"#c51b7d\"],[0.2,\"#de77ae\"],[0.3,\"#f1b6da\"],[0.4,\"#fde0ef\"],[0.5,\"#f7f7f7\"],[0.6,\"#e6f5d0\"],[0.7,\"#b8e186\"],[0.8,\"#7fbc41\"],[0.9,\"#4d9221\"],[1,\"#276419\"]]},\"xaxis\":{\"gridcolor\":\"white\",\"linecolor\":\"white\",\"ticks\":\"\",\"title\":{\"standoff\":15},\"zerolinecolor\":\"white\",\"automargin\":true,\"zerolinewidth\":2},\"yaxis\":{\"gridcolor\":\"white\",\"linecolor\":\"white\",\"ticks\":\"\",\"title\":{\"standoff\":15},\"zerolinecolor\":\"white\",\"automargin\":true,\"zerolinewidth\":2},\"scene\":{\"xaxis\":{\"backgroundcolor\":\"#E5ECF6\",\"gridcolor\":\"white\",\"linecolor\":\"white\",\"showbackground\":true,\"ticks\":\"\",\"zerolinecolor\":\"white\",\"gridwidth\":2},\"yaxis\":{\"backgroundcolor\":\"#E5ECF6\",\"gridcolor\":\"white\",\"linecolor\":\"white\",\"showbackground\":true,\"ticks\":\"\",\"zerolinecolor\":\"white\",\"gridwidth\":2},\"zaxis\":{\"backgroundcolor\":\"#E5ECF6\",\"gridcolor\":\"white\",\"linecolor\":\"white\",\"showbackground\":true,\"ticks\":\"\",\"zerolinecolor\":\"white\",\"gridwidth\":2}},\"shapedefaults\":{\"line\":{\"color\":\"#2a3f5f\"}},\"annotationdefaults\":{\"arrowcolor\":\"#2a3f5f\",\"arrowhead\":0,\"arrowwidth\":1},\"geo\":{\"bgcolor\":\"white\",\"landcolor\":\"#E5ECF6\",\"subunitcolor\":\"white\",\"showland\":true,\"showlakes\":true,\"lakecolor\":\"white\"},\"title\":{\"x\":0.05},\"mapbox\":{\"style\":\"light\"}}}},                        {\"responsive\": true}                    ).then(function(){\n",
       "                            \n",
       "var gd = document.getElementById('b42214d3-7a09-4c55-80b7-05205e57abb7');\n",
       "var x = new MutationObserver(function (mutations, observer) {{\n",
       "        var display = window.getComputedStyle(gd).display;\n",
       "        if (!display || display === 'none') {{\n",
       "            console.log([gd, 'removed!']);\n",
       "            Plotly.purge(gd);\n",
       "            observer.disconnect();\n",
       "        }}\n",
       "}});\n",
       "\n",
       "// Listen for the removal of the full notebook cells\n",
       "var notebookContainer = gd.closest('#notebook-container');\n",
       "if (notebookContainer) {{\n",
       "    x.observe(notebookContainer, {childList: true});\n",
       "}}\n",
       "\n",
       "// Listen for the clearing of the current output cell\n",
       "var outputEl = gd.closest('.output');\n",
       "if (outputEl) {{\n",
       "    x.observe(outputEl, {childList: true});\n",
       "}}\n",
       "\n",
       "                        })                };                });            </script>        </div>"
      ]
     },
     "metadata": {},
     "output_type": "display_data"
    }
   ],
   "source": [
    "import plotly.graph_objects as go\n",
    "df['Unnamed: 0']= pd.to_datetime(df['Unnamed: 0'])\n",
    "\n",
    "fig = go.Figure(data=[go.Candlestick(x=df['Unnamed: 0'],\n",
    "                open=stock['open'],\n",
    "                high=stock['high'],\n",
    "                low=stock['low'],\n",
    "                close=stock['close'])])\n",
    "\n",
    "fig.add_trace(go.Scatter(x=df['Unnamed: 0'], y=stock[\"nova\"],name=\"Inverted Hammer\", mode=\"markers\", marker_color='rgba(0, 0, 255, .9)', marker=dict(symbol=\"6\")))\n",
    "\n",
    "fig.show()"
   ]
  }
 ],
 "metadata": {
  "kernelspec": {
   "display_name": "Python 3 (ipykernel)",
   "language": "python",
   "name": "python3"
  },
  "language_info": {
   "codemirror_mode": {
    "name": "ipython",
    "version": 3
   },
   "file_extension": ".py",
   "mimetype": "text/x-python",
   "name": "python",
   "nbconvert_exporter": "python",
   "pygments_lexer": "ipython3",
   "version": "3.8.15"
  }
 },
 "nbformat": 4,
 "nbformat_minor": 4
}
